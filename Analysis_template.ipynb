{
 "cells": [
  {
   "cell_type": "raw",
   "metadata": {
    "vscode": {
     "languageId": "raw"
    }
   },
   "source": [
    "---\n",
    "title: \"Analysis template\"\n",
    "author: 'Eduard Ansaldo'\n",
    "date: \"`r Sys.Date()`\"\n",
    "\n",
    "execute:\n",
    "  echo: false\n",
    "  results:\n",
    "  warning: false\n",
    "  message: false\n",
    "\n",
    "\n",
    "verbose: false\n",
    "processing: false\n",
    "format: html\n",
    "---"
   ]
  },
  {
   "cell_type": "markdown",
   "metadata": {
    "vscode": {
     "languageId": "raw"
    }
   },
   "source": [
    "::: {.content-visible when-meta=\"verbose\"}\n",
    "# Initialization\n",
    ":::"
   ]
  },
  {
   "cell_type": "code",
   "execution_count": null,
   "metadata": {
    "vscode": {
     "languageId": "r"
    }
   },
   "outputs": [
    {
     "name": "stderr",
     "output_type": "stream",
     "text": [
      "── \u001b[1mAttaching core tidyverse packages\u001b[22m ──────────────────────── tidyverse 2.0.0 ──\n",
      "\u001b[32m✔\u001b[39m \u001b[34mdplyr    \u001b[39m 1.1.4     \u001b[32m✔\u001b[39m \u001b[34mreadr    \u001b[39m 2.1.5\n",
      "\u001b[32m✔\u001b[39m \u001b[34mforcats  \u001b[39m 1.0.0     \u001b[32m✔\u001b[39m \u001b[34mstringr  \u001b[39m 1.5.1\n",
      "\u001b[32m✔\u001b[39m \u001b[34mggplot2  \u001b[39m 3.5.2     \u001b[32m✔\u001b[39m \u001b[34mtibble   \u001b[39m 3.3.0\n",
      "\u001b[32m✔\u001b[39m \u001b[34mlubridate\u001b[39m 1.9.4     \u001b[32m✔\u001b[39m \u001b[34mtidyr    \u001b[39m 1.3.1\n",
      "\u001b[32m✔\u001b[39m \u001b[34mpurrr    \u001b[39m 1.1.0     \n",
      "── \u001b[1mConflicts\u001b[22m ────────────────────────────────────────── tidyverse_conflicts() ──\n",
      "\u001b[31m✖\u001b[39m \u001b[34mdplyr\u001b[39m::\u001b[32mfilter()\u001b[39m masks \u001b[34mstats\u001b[39m::filter()\n",
      "\u001b[31m✖\u001b[39m \u001b[34mdplyr\u001b[39m::\u001b[32mlag()\u001b[39m    masks \u001b[34mstats\u001b[39m::lag()\n",
      "\u001b[36mℹ\u001b[39m Use the conflicted package (\u001b[3m\u001b[34m<http://conflicted.r-lib.org/>\u001b[39m\u001b[23m) to force all conflicts to become errors\n",
      "\n",
      "Attaching package: ‘scales’\n",
      "\n",
      "\n",
      "The following object is masked from ‘package:purrr’:\n",
      "\n",
      "    discard\n",
      "\n",
      "\n",
      "The following object is masked from ‘package:readr’:\n",
      "\n",
      "    col_factor\n",
      "\n",
      "\n",
      "\n",
      "Attaching package: ‘cowplot’\n",
      "\n",
      "\n",
      "The following object is masked from ‘package:patchwork’:\n",
      "\n",
      "    align_plots\n",
      "\n",
      "\n",
      "The following object is masked from ‘package:lubridate’:\n",
      "\n",
      "    stamp\n",
      "\n",
      "\n",
      "\n",
      "Attaching package: ‘gridExtra’\n",
      "\n",
      "\n",
      "The following object is masked from ‘package:dplyr’:\n",
      "\n",
      "    combine\n",
      "\n",
      "\n",
      "Loading required package: grid\n",
      "\n",
      "Loading required package: futile.logger\n",
      "\n",
      "Loading required package: viridisLite\n",
      "\n",
      "\n",
      "Attaching package: ‘viridis’\n",
      "\n",
      "\n",
      "The following object is masked from ‘package:scales’:\n",
      "\n",
      "    viridis_pal\n",
      "\n",
      "\n",
      "here() starts at /Users/eduardansaldo/Scripps Research Dropbox/Eduard Ansaldo Gine/Constantinides lab/Experiments/Eduard/202507_lung_Abau_Ftul_CT_MAIT_Dom/scripts\n",
      "\n",
      "========================================\n",
      "circlize version 0.4.16\n",
      "CRAN page: https://cran.r-project.org/package=circlize\n",
      "Github page: https://github.com/jokergoo/circlize\n",
      "Documentation: https://jokergoo.github.io/circlize_book/book/\n",
      "\n",
      "If you use it in published research, please cite:\n",
      "Gu, Z. circlize implements and enhances circular visualization\n",
      "  in R. Bioinformatics 2014.\n",
      "\n",
      "This message can be suppressed by:\n",
      "  suppressPackageStartupMessages(library(circlize))\n",
      "========================================\n",
      "\n",
      "\n",
      "Loading required package: Seurat\n",
      "\n",
      "Loading required package: SeuratObject\n",
      "\n",
      "Loading required package: sp\n",
      "\n",
      "‘SeuratObject’ was built under R 4.5.0 but the current version is\n",
      "4.5.1; it is recomended that you reinstall ‘SeuratObject’ as the ABI\n",
      "for R may have changed\n",
      "\n",
      "\n",
      "Attaching package: ‘SeuratObject’\n",
      "\n",
      "\n",
      "The following objects are masked from ‘package:base’:\n",
      "\n",
      "    intersect, t\n",
      "\n",
      "\n",
      "\u001b[1m\u001b[22mscCustomize v3.0.1\n",
      "If you find the scCustomize useful please cite.\n",
      "See 'samuel-marsh.github.io/scCustomize/articles/FAQ.html' for citation info.\n",
      "\n",
      "Loading required package: SummarizedExperiment\n",
      "\n",
      "Loading required package: MatrixGenerics\n",
      "\n",
      "Loading required package: matrixStats\n",
      "\n",
      "\n",
      "Attaching package: ‘matrixStats’\n",
      "\n",
      "\n",
      "The following object is masked from ‘package:dplyr’:\n",
      "\n",
      "    count\n",
      "\n",
      "\n",
      "\n",
      "Attaching package: ‘MatrixGenerics’\n",
      "\n",
      "\n",
      "The following objects are masked from ‘package:matrixStats’:\n",
      "\n",
      "    colAlls, colAnyNAs, colAnys, colAvgsPerRowSet, colCollapse,\n",
      "    colCounts, colCummaxs, colCummins, colCumprods, colCumsums,\n",
      "    colDiffs, colIQRDiffs, colIQRs, colLogSumExps, colMadDiffs,\n",
      "    colMads, colMaxs, colMeans2, colMedians, colMins, colOrderStats,\n",
      "    colProds, colQuantiles, colRanges, colRanks, colSdDiffs, colSds,\n",
      "    colSums2, colTabulates, colVarDiffs, colVars, colWeightedMads,\n",
      "    colWeightedMeans, colWeightedMedians, colWeightedSds,\n",
      "    colWeightedVars, rowAlls, rowAnyNAs, rowAnys, rowAvgsPerColSet,\n",
      "    rowCollapse, rowCounts, rowCummaxs, rowCummins, rowCumprods,\n",
      "    rowCumsums, rowDiffs, rowIQRDiffs, rowIQRs, rowLogSumExps,\n",
      "    rowMadDiffs, rowMads, rowMaxs, rowMeans2, rowMedians, rowMins,\n",
      "    rowOrderStats, rowProds, rowQuantiles, rowRanges, rowRanks,\n",
      "    rowSdDiffs, rowSds, rowSums2, rowTabulates, rowVarDiffs, rowVars,\n",
      "    rowWeightedMads, rowWeightedMeans, rowWeightedMedians,\n",
      "    rowWeightedSds, rowWeightedVars\n",
      "\n",
      "\n",
      "Loading required package: GenomicRanges\n",
      "\n",
      "Loading required package: stats4\n",
      "\n",
      "Loading required package: BiocGenerics\n",
      "\n",
      "Loading required package: generics\n",
      "\n",
      "\n",
      "Attaching package: ‘generics’\n",
      "\n",
      "\n",
      "The following object is masked from ‘package:lubridate’:\n",
      "\n",
      "    as.difftime\n",
      "\n",
      "\n",
      "The following object is masked from ‘package:dplyr’:\n",
      "\n",
      "    explain\n",
      "\n",
      "\n",
      "The following objects are masked from ‘package:base’:\n",
      "\n",
      "    as.difftime, as.factor, as.ordered, intersect, is.element, setdiff,\n",
      "    setequal, union\n",
      "\n",
      "\n",
      "\n",
      "Attaching package: ‘BiocGenerics’\n",
      "\n",
      "\n",
      "The following object is masked from ‘package:gridExtra’:\n",
      "\n",
      "    combine\n",
      "\n",
      "\n",
      "The following object is masked from ‘package:dplyr’:\n",
      "\n",
      "    combine\n",
      "\n",
      "\n",
      "The following objects are masked from ‘package:stats’:\n",
      "\n",
      "    IQR, mad, sd, var, xtabs\n",
      "\n",
      "\n",
      "The following objects are masked from ‘package:base’:\n",
      "\n",
      "    anyDuplicated, aperm, append, as.data.frame, basename, cbind,\n",
      "    colnames, dirname, do.call, duplicated, eval, evalq, Filter, Find,\n",
      "    get, grep, grepl, is.unsorted, lapply, Map, mapply, match, mget,\n",
      "    order, paste, pmax, pmax.int, pmin, pmin.int, Position, rank,\n",
      "    rbind, Reduce, rownames, sapply, saveRDS, table, tapply, unique,\n",
      "    unsplit, which.max, which.min\n",
      "\n",
      "\n",
      "Loading required package: S4Vectors\n",
      "\n",
      "\n",
      "Attaching package: ‘S4Vectors’\n",
      "\n",
      "\n",
      "The following objects are masked from ‘package:lubridate’:\n",
      "\n",
      "    second, second<-\n",
      "\n",
      "\n",
      "The following objects are masked from ‘package:dplyr’:\n",
      "\n",
      "    first, rename\n",
      "\n",
      "\n",
      "The following object is masked from ‘package:tidyr’:\n",
      "\n",
      "    expand\n",
      "\n",
      "\n",
      "The following object is masked from ‘package:utils’:\n",
      "\n",
      "    findMatches\n",
      "\n",
      "\n",
      "The following objects are masked from ‘package:base’:\n",
      "\n",
      "    expand.grid, I, unname\n",
      "\n",
      "\n",
      "Loading required package: IRanges\n",
      "\n",
      "\n",
      "Attaching package: ‘IRanges’\n",
      "\n",
      "\n",
      "The following object is masked from ‘package:sp’:\n",
      "\n",
      "    %over%\n",
      "\n",
      "\n",
      "The following object is masked from ‘package:lubridate’:\n",
      "\n",
      "    %within%\n",
      "\n",
      "\n",
      "The following objects are masked from ‘package:dplyr’:\n",
      "\n",
      "    collapse, desc, slice\n",
      "\n",
      "\n",
      "The following object is masked from ‘package:purrr’:\n",
      "\n",
      "    reduce\n",
      "\n",
      "\n",
      "Loading required package: GenomeInfoDb\n",
      "\n",
      "Loading required package: Biobase\n",
      "\n",
      "Welcome to Bioconductor\n",
      "\n",
      "    Vignettes contain introductory material; view with\n",
      "    'browseVignettes()'. To cite Bioconductor, see\n",
      "    'citation(\"Biobase\")', and for packages 'citation(\"pkgname\")'.\n",
      "\n",
      "\n",
      "\n",
      "Attaching package: ‘Biobase’\n",
      "\n",
      "\n",
      "The following object is masked from ‘package:MatrixGenerics’:\n",
      "\n",
      "    rowMedians\n",
      "\n",
      "\n",
      "The following objects are masked from ‘package:matrixStats’:\n",
      "\n",
      "    anyMissing, rowMedians\n",
      "\n",
      "\n",
      "\n",
      "Attaching package: ‘SummarizedExperiment’\n",
      "\n",
      "\n",
      "The following object is masked from ‘package:Seurat’:\n",
      "\n",
      "    Assays\n",
      "\n",
      "\n",
      "The following object is masked from ‘package:SeuratObject’:\n",
      "\n",
      "    Assays\n",
      "\n",
      "\n",
      "\n",
      "Attaching package: ‘celldex’\n",
      "\n",
      "\n",
      "The following objects are masked from ‘package:SingleR’:\n",
      "\n",
      "    BlueprintEncodeData, DatabaseImmuneCellExpressionData,\n",
      "    HumanPrimaryCellAtlasData, ImmGenData, MonacoImmuneData,\n",
      "    MouseRNAseqData, NovershternHematopoieticData\n",
      "\n",
      "\n",
      "\n",
      "\n",
      "clusterProfiler v4.16.0 Learn more at https://yulab-smu.top/contribution-knowledge-mining/\n",
      "\n",
      "Please cite:\n",
      "\n",
      "Guangchuang Yu, Li-Gen Wang, Yanyan Han and Qing-Yu He.\n",
      "clusterProfiler: an R package for comparing biological themes among\n",
      "gene clusters. OMICS: A Journal of Integrative Biology. 2012,\n",
      "16(5):284-287\n",
      "\n",
      "\n",
      "Attaching package: ‘clusterProfiler’\n",
      "\n",
      "\n",
      "The following object is masked from ‘package:IRanges’:\n",
      "\n",
      "    slice\n",
      "\n",
      "\n",
      "The following object is masked from ‘package:S4Vectors’:\n",
      "\n",
      "    rename\n",
      "\n",
      "\n",
      "The following object is masked from ‘package:purrr’:\n",
      "\n",
      "    simplify\n",
      "\n",
      "\n",
      "The following object is masked from ‘package:stats’:\n",
      "\n",
      "    filter\n",
      "\n",
      "\n",
      "DOSE v4.2.0 Learn more at https://yulab-smu.top/contribution-knowledge-mining/\n",
      "\n",
      "Please cite:\n",
      "\n",
      "Guangchuang Yu, Li-Gen Wang, Guang-Rong Yan, Qing-Yu He. DOSE: an\n",
      "R/Bioconductor package for Disease Ontology Semantic and Enrichment\n",
      "analysis. Bioinformatics. 2015, 31(4):608-609\n",
      "\n",
      "\n",
      "\n",
      "##############################################################################\n",
      "Pathview is an open source software package distributed under GNU General\n",
      "Public License version 3 (GPLv3). Details of GPLv3 is available at\n",
      "http://www.gnu.org/licenses/gpl-3.0.html. Particullary, users are required to\n",
      "formally cite the original Pathview paper (not just mention it) in publications\n",
      "or products. For details, do citation(\"pathview\") within R.\n",
      "\n",
      "The pathview downloads and uses KEGG data. Non-academic uses may require a KEGG\n",
      "license agreement (details at http://www.kegg.jp/kegg/legal.html).\n",
      "##############################################################################\n",
      "\n",
      "Loading required package: AnnotationDbi\n",
      "\n",
      "\n",
      "Attaching package: ‘AnnotationDbi’\n",
      "\n",
      "\n",
      "The following object is masked from ‘package:clusterProfiler’:\n",
      "\n",
      "    select\n",
      "\n",
      "\n",
      "The following object is masked from ‘package:dplyr’:\n",
      "\n",
      "    select\n",
      "\n",
      "\n",
      "\n",
      "\n",
      "enrichplot v1.28.2 Learn more at https://yulab-smu.top/contribution-knowledge-mining/\n",
      "\n",
      "Please cite:\n",
      "\n",
      "S Xu, E Hu, Y Cai, Z Xie, X Luo, L Zhan, W Tang, Q Wang, B Liu, R Wang,\n",
      "W Xie, T Wu, L Xie, G Yu. Using clusterProfiler to characterize\n",
      "multiomics data. Nature Protocols. 2024, 19(11):3292-3320\n",
      "\n"
     ]
    }
   ],
   "source": [
    "# General R and plotting \n",
    "library(tidyverse)\n",
    "library(ggplot2)\n",
    "library(scales)\n",
    "library(patchwork)\n",
    "library(cowplot)\n",
    "library(gridExtra)\n",
    "library(ggrepel)\n",
    "library(stringr)\n",
    "library(VennDiagram)\n",
    "library(pheatmap)\n",
    "library(viridis)\n",
    "library(here)\n",
    "\n",
    "# Single Cell Analysis Packages\n",
    "library(scRepertoire)\n",
    "library(scRepertoire)\n",
    "library(circlize)\n",
    "library(scCustomize)\n",
    "library(SingleR)\n",
    "library(celldex)\n",
    "library(UCell)\n",
    "library(scplotter)\n",
    "\n",
    "# DEG, pathway enrichment and visualization packages\n",
    "library(DESeq2)\n",
    "library(clusterProfiler)\n",
    "library(DOSE)\n",
    "library(pathview)\n",
    "library(org.Mm.eg.db)\n",
    "library(scRepertoire)\n",
    "library(enrichplot)\n",
    "library(msigdbr)\n",
    "library(gprofiler2)\n",
    "\n",
    "source(here('scripts/function_template.r'))"
   ]
  },
  {
   "cell_type": "code",
   "execution_count": 2,
   "metadata": {
    "vscode": {
     "languageId": "r"
    }
   },
   "outputs": [
    {
     "name": "stderr",
     "output_type": "stream",
     "text": [
      "here() starts at /Users/eduardansaldo/Scripps Research Dropbox/Eduard Ansaldo Gine/Constantinides lab/Experiments/Eduard/202507_lung_Abau_Ftul_CT_MAIT_Dom\n",
      "\n"
     ]
    },
    {
     "data": {
      "text/html": [
       "'/Users/eduardansaldo/Scripps Research Dropbox/Eduard Ansaldo Gine/Constantinides lab/Experiments/Eduard/202507_lung_Abau_Ftul_CT_MAIT_Dom'"
      ],
      "text/latex": [
       "'/Users/eduardansaldo/Scripps Research Dropbox/Eduard Ansaldo Gine/Constantinides lab/Experiments/Eduard/202507\\_lung\\_Abau\\_Ftul\\_CT\\_MAIT\\_Dom'"
      ],
      "text/markdown": [
       "'/Users/eduardansaldo/Scripps Research Dropbox/Eduard Ansaldo Gine/Constantinides lab/Experiments/Eduard/202507_lung_Abau_Ftul_CT_MAIT_Dom'"
      ],
      "text/plain": [
       "[1] \"/Users/eduardansaldo/Scripps Research Dropbox/Eduard Ansaldo Gine/Constantinides lab/Experiments/Eduard/202507_lung_Abau_Ftul_CT_MAIT_Dom\""
      ]
     },
     "metadata": {},
     "output_type": "display_data"
    }
   ],
   "source": [
    "i_am('scripts/Analysis.ipynb')\n",
    "here()\n",
    "path <- here()\n",
    "results_path <- here('results')\n",
    "dir.create(results_path)\n",
    "figures_path <- here('results/figures')\n",
    "dir.create(figures_path)\n",
    "data_path <- here('data')\n",
    "dir.create(data_path)"
   ]
  },
  {
   "cell_type": "markdown",
   "metadata": {},
   "source": [
    ":::{.content-visible when-meta='verbose'}\n",
    "# Preprocessing\n",
    ":::"
   ]
  },
  {
   "cell_type": "markdown",
   "metadata": {},
   "source": [
    ":::{.content-visible when-meta='verbose'}\n",
    "## Read in data\n",
    ":::"
   ]
  },
  {
   "cell_type": "code",
   "execution_count": null,
   "metadata": {
    "vscode": {
     "languageId": "r"
    }
   },
   "outputs": [
    {
     "data": {
      "text/html": [
       "'/Users/eduardansaldo/Scripps Research Dropbox/Eduard Ansaldo Gine/Constantinides lab/Experiments/Eduard/202507_lung_Abau_Ftul_CT_MAIT_Dom/scripts'"
      ],
      "text/latex": [
       "'/Users/eduardansaldo/Scripps Research Dropbox/Eduard Ansaldo Gine/Constantinides lab/Experiments/Eduard/202507\\_lung\\_Abau\\_Ftul\\_CT\\_MAIT\\_Dom/scripts'"
      ],
      "text/markdown": [
       "'/Users/eduardansaldo/Scripps Research Dropbox/Eduard Ansaldo Gine/Constantinides lab/Experiments/Eduard/202507_lung_Abau_Ftul_CT_MAIT_Dom/scripts'"
      ],
      "text/plain": [
       "[1] \"/Users/eduardansaldo/Scripps Research Dropbox/Eduard Ansaldo Gine/Constantinides lab/Experiments/Eduard/202507_lung_Abau_Ftul_CT_MAIT_Dom/scripts\""
      ]
     },
     "metadata": {},
     "output_type": "display_data"
    },
    {
     "data": {
      "text/html": [
       "'/Users/eduardansaldo/Scripps Research Dropbox/Eduard Ansaldo Gine/Constantinides lab/Experiments/Eduard/202507_lung_Abau_Ftul_CT_MAIT_Dom/scripts'"
      ],
      "text/latex": [
       "'/Users/eduardansaldo/Scripps Research Dropbox/Eduard Ansaldo Gine/Constantinides lab/Experiments/Eduard/202507\\_lung\\_Abau\\_Ftul\\_CT\\_MAIT\\_Dom/scripts'"
      ],
      "text/markdown": [
       "'/Users/eduardansaldo/Scripps Research Dropbox/Eduard Ansaldo Gine/Constantinides lab/Experiments/Eduard/202507_lung_Abau_Ftul_CT_MAIT_Dom/scripts'"
      ],
      "text/plain": [
       "[1] \"/Users/eduardansaldo/Scripps Research Dropbox/Eduard Ansaldo Gine/Constantinides lab/Experiments/Eduard/202507_lung_Abau_Ftul_CT_MAIT_Dom/scripts\""
      ]
     },
     "metadata": {},
     "output_type": "display_data"
    },
    {
     "name": "stderr",
     "output_type": "stream",
     "text": [
      "here() starts at /Users/eduardansaldo/Scripps Research Dropbox/Eduard Ansaldo Gine/Constantinides lab/Experiments/Eduard/202507_lung_Abau_Ftul_CT_MAIT_Dom\n",
      "\n"
     ]
    },
    {
     "data": {
      "text/html": [
       "'/Users/eduardansaldo/Scripps Research Dropbox/Eduard Ansaldo Gine/Constantinides lab/Experiments/Eduard/202507_lung_Abau_Ftul_CT_MAIT_Dom'"
      ],
      "text/latex": [
       "'/Users/eduardansaldo/Scripps Research Dropbox/Eduard Ansaldo Gine/Constantinides lab/Experiments/Eduard/202507\\_lung\\_Abau\\_Ftul\\_CT\\_MAIT\\_Dom'"
      ],
      "text/markdown": [
       "'/Users/eduardansaldo/Scripps Research Dropbox/Eduard Ansaldo Gine/Constantinides lab/Experiments/Eduard/202507_lung_Abau_Ftul_CT_MAIT_Dom'"
      ],
      "text/plain": [
       "[1] \"/Users/eduardansaldo/Scripps Research Dropbox/Eduard Ansaldo Gine/Constantinides lab/Experiments/Eduard/202507_lung_Abau_Ftul_CT_MAIT_Dom\""
      ]
     },
     "metadata": {},
     "output_type": "display_data"
    }
   ],
   "source": [
    "#options(Seurat.object.assay.version='v3')\n",
    "\n",
    "#Load the dataset from the cellranger outs\n",
    "scdata <- Read10X(data.dir = here(\"cluster_processing/aggr_all/outs/count/filtered_feature_bc_matrix\"))\n",
    "\n",
    "#Initialize the seurat object with the raw (non-normalized data)\n",
    "seurat <- CreateSeuratObject(counts=scdata$'Gene Expression', min.cells = 3)\n",
    "\n",
    "# #Add HTO data as a new assay independent from RNA\n",
    "HTO <- CreateAssayObject(counts = scdata$'Antibody Capture')\n",
    "seurat[[\"HTO\"]] <- HTO"
   ]
  },
  {
   "cell_type": "markdown",
   "metadata": {},
   "source": [
    ":::{.content-visible when-meta='processing'}\n",
    "## QC\n",
    ":::"
   ]
  },
  {
   "cell_type": "code",
   "execution_count": null,
   "metadata": {
    "vscode": {
     "languageId": "r"
    }
   },
   "outputs": [],
   "source": [
    ":::{.content-visible when-meta='processing'}\n",
    "\n",
    "#Quantifying percentage mitochondria\n",
    "seurat[[\"percent.mt\"]] <- PercentageFeatureSet(seurat, assay=\"RNA\",pattern = \"mt-\")\n",
    "\n",
    "VlnPlot(seurat, features = c(\"nFeature_RNA\", \"nCount_RNA\", \"percent.mt\"), ncol=3)\n",
    "\n",
    "p1 <- seurat@meta.data %>% \n",
    "  \tggplot(aes(x=nCount_RNA)) + \n",
    "  \tgeom_density() + \n",
    "  \tscale_x_log10() + \n",
    "  \ttheme_classic() +\n",
    "  \tylab(\"Cell density\") +\n",
    "  \tgeom_vline(xintercept = 1200)\n",
    "\n",
    "p2 <- seurat@meta.data %>% \n",
    "  \tggplot(aes(x=nFeature_RNA)) + \n",
    "  \tgeom_density() + \n",
    "  \tscale_x_log10() + \n",
    "  \ttheme_classic() +\n",
    "  \tylab(\"Cell density\") +\n",
    "  \tgeom_vline(xintercept = 500)\n",
    "\n",
    "p3 <- seurat@meta.data %>% \n",
    "  \tggplot(aes(x=percent.mt)) + \n",
    "  \tgeom_density() + \n",
    "  \tscale_x_log10() + \n",
    "  \ttheme_classic() +\n",
    "  \tylab(\"Cell density\") +\n",
    "  \tgeom_vline(xintercept = 5)\n",
    "\n",
    "grid.arrange(p1, p2, p3)    \n",
    "\n",
    "# # Visualize feature relationships\n",
    "# # plot1 <- FeatureScatter(seurat, feature1 = \"nCount_RNA\", feature2 = \"percent.mt\")\n",
    "\n",
    "# # plot2 <- FeatureScatter(seurat, feature1 = \"nCount_RNA\", feature2 = \"nFeature_RNA\")\n",
    "# # plot1+plot2\n",
    "\n",
    "cell_number <- list(nrow(seurat[[]]))\n",
    "\n",
    ":::"
   ]
  },
  {
   "cell_type": "code",
   "execution_count": null,
   "metadata": {
    "vscode": {
     "languageId": "r"
    }
   },
   "outputs": [],
   "source": [
    ":::{.content-visible when-meta='processing'}\n",
    "# Filter data\n",
    "\n",
    "cell_number <- list(nrow(seurat[[]]))\n",
    "seurat_old <- seurat\n",
    "seurat <- subset(seurat, subset = nFeature_RNA  > 500 & percent.mt < 5 & nCount_RNA > 1200)\n",
    "cell_number <- append(cell_number, nrow(seurat[[]]))\n",
    "\n",
    "print(\"Cell number before and after filterings\")\n",
    "print(cell_number)\n",
    "\n",
    "\n",
    ":::"
   ]
  },
  {
   "cell_type": "markdown",
   "metadata": {},
   "source": [
    ":::{.content-visible when-meta='verbose'}\n",
    "## Data Normalization\n",
    ":::"
   ]
  },
  {
   "cell_type": "code",
   "execution_count": null,
   "metadata": {
    "vscode": {
     "languageId": "r"
    }
   },
   "outputs": [],
   "source": [
    "# Normalize RNA data with log normalization\n",
    "seurat <- NormalizeData(seurat, assay = \"RNA\",normalization.method = \"LogNormalize\", scale.factor = 10000)\n",
    "\n",
    "# Normalize HTO data with CLR\n",
    "seurat <- NormalizeData(seurat, assay = \"HTO\",normalization.method = \"CLR\")\n",
    "\n",
    "#Implement SCTransform"
   ]
  },
  {
   "cell_type": "markdown",
   "metadata": {},
   "source": [
    ":::{.content-visible when-meta='processing'}\n",
    "## Hashtag Demultiplexing\n",
    ":::"
   ]
  },
  {
   "cell_type": "code",
   "execution_count": null,
   "metadata": {
    "vscode": {
     "languageId": "r"
    }
   },
   "outputs": [],
   "source": [
    ":::{.content-visible when-meta='processing'}\n",
    "colnames(seurat@meta.data)\n",
    "plot1 <- seurat@meta.data %>% \n",
    "  \tggplot(aes(x=nCount_HTO)) + \n",
    "  \tgeom_density() + \n",
    "  \tscale_x_log10() + \n",
    "  \ttheme_classic() +\n",
    "  \tylab(\"Cell density\") +\n",
    "  \tgeom_vline(xintercept = 100)\n",
    "\n",
    "plot2 <- seurat@meta.data %>% \n",
    "  \tggplot(aes(x=nFeature_HTO)) + \n",
    "  \tgeom_density() + \n",
    "  \tscale_x_log10() + \n",
    "  \ttheme_classic() +\n",
    "  \tylab(\"Cell density\") +\n",
    "  \tgeom_vline(xintercept = 10)\n",
    "\n",
    "plot1+plot2\n",
    ":::"
   ]
  },
  {
   "cell_type": "code",
   "execution_count": null,
   "metadata": {
    "vscode": {
     "languageId": "r"
    }
   },
   "outputs": [],
   "source": [
    ":::{.content-visible when-meta='processing'}\n",
    "\n",
    "seurat <- HTODemux(seurat, assay = \"HTO\", positive.quantile = 0.99)\n",
    "\n",
    "table(seurat$HTO_classification.global)\n",
    "\n",
    "#tSNE-visualization\n",
    "seurat_subset <- subset(seurat, idents = \"Negative\", invert =TRUE)\n",
    "DefaultAssay(seurat_subset) <- \"HTO\"\n",
    "seurat_subset <- ScaleData(seurat_subset, assay = \"HTO\",  features = rownames(seurat_subset), verbose = FALSE )\n",
    "seurat_subset <- RunPCA(seurat_subset, assay = \"HTO\", rownames(seurat_subset), approx = FALSE)\n",
    "seurat_subset <- RunTSNE(seurat_subset, assay = \"HTO\", dims = 1:24, perplexity = 100, check_duplicates=FALSE)\n",
    "DimPlot(seurat_subset)\n",
    "\n",
    ":::"
   ]
  },
  {
   "cell_type": "code",
   "execution_count": null,
   "metadata": {
    "vscode": {
     "languageId": "r"
    }
   },
   "outputs": [],
   "source": [
    ":::{.content-visible when-meta='processing'}\n",
    "\n",
    "print(\"Number of Singlets\")\n",
    "print()(nrow(seurat@meta.data |> filter(\"HTO_classification.global\" == 'Singlet')))\n",
    "\n",
    "print(\"Number of Doublets\")\n",
    "print(nrow(seurat@meta.data |> filter(\"HTO_classification.global\" == 'Doublet')))\n",
    "\n",
    "print(\"Number of Negatives\")\n",
    "print(nrow(seurat@meta.data |> filter(\"HTO_classification.global\" == 'Negative')))\n",
    "\n",
    "\n",
    "# Filtering singlets only\n",
    "Idents(seurat) <- \"HTO_classification.global\"\n",
    "seurat <-subset(seurat, idents = \"Singlet\")\n",
    "\n",
    ":::"
   ]
  },
  {
   "cell_type": "markdown",
   "metadata": {},
   "source": [
    ":::{.content-visible when-meta='verbose'}\n",
    "## Create Groups\n",
    ":::"
   ]
  },
  {
   "cell_type": "code",
   "execution_count": null,
   "metadata": {
    "vscode": {
     "languageId": "r"
    }
   },
   "outputs": [],
   "source": [
    "seurat@meta.data <- seurat@meta.data |>\n",
    "    mutate(\n",
    "        Groups = case_when(\n",
    "            str_detect(hash.ID, 'SPF-iso') ~ 'SPF isotype',\n",
    "            str_detect(hash.ID, 'SPF-aCD3') ~ 'SPF aCD3',\n",
    "            str_detect(hash.ID, 'GF-iso') ~ 'GF isotype',\n",
    "            str_detect(hash.ID, 'GF-aCD3') ~ 'GF aCD3',\n",
    "            TRUE ~ 'Other'\n",
    "\n",
    "    ),\n",
    "        Samples = hash.ID,\n",
    "        Condition = case_when(\n",
    "            str_detect(hash.ID, 'SPF') ~ 'SPF',\n",
    "            str_detect(hash.ID, 'GF') ~ 'GF',\n",
    "            TRUE ~ 'Other'\n",
    "        ),\n",
    "        Treatment = case_when(\n",
    "            str_detect(hash.ID, 'iso') ~ 'isotype',\n",
    "            str_detect(hash.ID, 'aCD3') ~ 'aCD3',\n",
    "        ) \n",
    "        )\n",
    "\n",
    "\n",
    "seurat@meta.data <- seurat@meta.data |>\n",
    "    mutate(Groups = factor(Groups,levels = c('SPF isotype', 'GF isotype', 'SPF aCD3', 'GF aCD3'))) |>\n",
    "    mutate(Samples = factor(Samples,levels = c('SPF-iso-1', \n",
    "                                                'SPF-iso-2',\n",
    "                                                'SPF-iso-3',\n",
    "                                                'SPF-iso-4',\n",
    "                                                'SPF-aCD3-1',\n",
    "                                                'SPF-aCD3-2',\n",
    "                                                'SPF-aCD3-3',\n",
    "                                                'GF-iso-1',\n",
    "                                                'GF-iso-2',\n",
    "                                                'GF-iso-3',\n",
    "                                                'GF-iso-4',\n",
    "                                                'GF-aCD3-1',\n",
    "                                                'GF-aCD3-2',\n",
    "                                                'GF-aCD3-3',\n",
    "                                                'GF-aCD3-4'                                                \n",
    "                                                ))) \n",
    "    \n",
    "#Create groups\n",
    "colnames(seurat@meta.data)\n",
    "levels(seurat$Groups)\n",
    "levels(seurat$Samples)"
   ]
  },
  {
   "cell_type": "markdown",
   "metadata": {},
   "source": [
    ":::{.content-visible when-meta='processing'}\n",
    "## Clustering\n",
    ":::"
   ]
  },
  {
   "cell_type": "code",
   "execution_count": null,
   "metadata": {
    "vscode": {
     "languageId": "r"
    }
   },
   "outputs": [],
   "source": [
    ":::{.content-visible when-meta='processing'}\n",
    "\n",
    "# Find and scale variable features\n",
    "DefaultAssay(seurat) <- \"RNA\"\n",
    "seurat <- FindVariableFeatures(seurat, selection.method = \"vst\", nfeatures = 2000)\n",
    "\n",
    "top25  <- head(VariableFeatures(seurat), 25)\n",
    "\n",
    "# plot1 <- VariableFeaturePlot(seurat)\n",
    "# plot2 <- LabelPoints(plot = plot1, points=top25, repel=TRUE)\n",
    "# plot1+plot2\n",
    "\n",
    "#Scaling the Data\n",
    "all.genes <- rownames(seurat)\n",
    "seurat <- ScaleData(seurat, features=all.genes)\n",
    "\n",
    "#Dimensionality reduction\n",
    "seurat <- RunPCA(seurat, features = VariableFeatures(object=seurat), npcs=200)\n",
    "\n",
    "#Determining dimensionality of the dataset\n",
    "ElbowPlot(seurat, ndims = 200)\n",
    "\n",
    ":::"
   ]
  },
  {
   "cell_type": "code",
   "execution_count": null,
   "metadata": {
    "vscode": {
     "languageId": "r"
    }
   },
   "outputs": [],
   "source": [
    "# Describe number of dimensions\n",
    "\n",
    "dimensions  <- 45\n"
   ]
  },
  {
   "cell_type": "code",
   "execution_count": null,
   "metadata": {
    "vscode": {
     "languageId": "r"
    }
   },
   "outputs": [],
   "source": [
    "#| output: false\n",
    "resolutions <- c(0.25, 0.5, 1, 1.25, 1.5, 1.75, 2, 3, 4, 5)\n",
    "seurat <- FindNeighbors(seurat, dims = 1:dimensions)\n",
    "seurat <- FindClusters(seurat, resolution = resolutions)\n",
    "seurat <- RunUMAP(seurat, dims=1:dimensions )"
   ]
  },
  {
   "cell_type": "code",
   "execution_count": null,
   "metadata": {
    "vscode": {
     "languageId": "r"
    }
   },
   "outputs": [],
   "source": [
    ":::{.content-visible when-meta='processing'}\n",
    "\n",
    "p <- list()\n",
    "i <- 1\n",
    "for (resolution in resolutions ) {\n",
    "    Idents(seurat) <- paste0('RNA_snn_res.', resolution) \n",
    "    p2 <- DimPlot(seurat, reduction = \"umap\", label = TRUE) + ggtitle(paste0('R ', resolution)) + theme(legend.position = \"none\")    \n",
    "    p[[i]] <- p2\n",
    "    i <- i+1\n",
    "}\n",
    "\n",
    "plot <- grid.arrange(grobs = p)\n",
    "# ggsave('initial_clustering_results_by_resolution.pdf', path = here('result/figures'), plot = plot)\n",
    "\n",
    ":::"
   ]
  },
  {
   "cell_type": "markdown",
   "metadata": {},
   "source": [
    ":::{.content-visible when-meta='processing'}\n",
    "Chosen resolution\n",
    ":::"
   ]
  },
  {
   "cell_type": "code",
   "execution_count": null,
   "metadata": {
    "vscode": {
     "languageId": "r"
    }
   },
   "outputs": [],
   "source": [
    ":::{.content-visible when-meta='processing'}\n",
    "\n",
    "#| echo: true\n",
    "resolution <- 0.25\n",
    "\n",
    ":::"
   ]
  },
  {
   "cell_type": "markdown",
   "metadata": {},
   "source": [
    ":::{.content-visible when-meta='processing'}\n",
    "## Removing contaminating clusters\n",
    ":::"
   ]
  },
  {
   "cell_type": "markdown",
   "metadata": {},
   "source": [
    ":::{.content-visible when-meta='processing'}\n",
    "### Looking for Outlier Clusters\n",
    ":::"
   ]
  },
  {
   "cell_type": "code",
   "execution_count": null,
   "metadata": {
    "vscode": {
     "languageId": "r"
    }
   },
   "outputs": [],
   "source": [
    ":::{.content-visible when-meta='processing'}\n",
    "\n",
    "Idents(seurat) <- paste0('RNA_snn_res.', resolution)\n",
    "seurat[['seurat_clusters']]<- Idents(seurat)\n",
    "DimPlot(seurat, reduction = \"umap\", label = TRUE) + ggtitle(paste0('R ', resolution))\n",
    "DimPlot(seurat, reduction = \"umap\", label = TRUE, split.by = 'Groups', ncol = 3) + ggtitle(paste0('R ', resolution)) + theme(legend.position = \"none\")\n",
    "\n",
    ":::"
   ]
  },
  {
   "cell_type": "markdown",
   "metadata": {},
   "source": [
    ":::{.content-visible when-meta='processing'}\n",
    "### Automatic cell type annotations\n",
    ":::"
   ]
  },
  {
   "cell_type": "code",
   "execution_count": null,
   "metadata": {
    "vscode": {
     "languageId": "r"
    }
   },
   "outputs": [],
   "source": [
    ":::{.content-visible when-meta='processing'}\n",
    "\n",
    "local_path <- paste0(results_path, 'initial_cell_type_annotations')\n",
    "unlink(local_path,recursive = T)\n",
    "dir.create(local_path)\n",
    "\n",
    ":::"
   ]
  },
  {
   "cell_type": "markdown",
   "metadata": {},
   "source": [
    ":::{.content-visible when-meta='processing'}\n",
    "Annotation per Group \n",
    ":::"
   ]
  },
  {
   "cell_type": "code",
   "execution_count": null,
   "metadata": {
    "vscode": {
     "languageId": "r"
    }
   },
   "outputs": [],
   "source": [
    ":::{.content-visible when-meta='processing'}\n",
    "\n",
    "immgen <- ImmGenData(ensembl = FALSE)\n",
    "predictions_cluster <- SingleR(test = as.SingleCellExperiment(seurat), assay.type.test = 1, ref = immgen, labels = immgen$label.fine, cluster = seurat$seurat_clusters)\n",
    "\n",
    "row.names <- rownames(predictions_cluster)\n",
    "\n",
    "predictions_cluster <- predictions_cluster |>\n",
    "    as_tibble() |> \n",
    "    dplyr::select(c('labels')) \n",
    "\n",
    "predictions_cluster$cluster <- row.names\n",
    "\n",
    "#predictions_cluster <- predictions_cluster |> rename('labels_per_cluster' = 'labels')\n",
    "\n",
    "annotations <- seurat@meta.data |>\n",
    "    left_join(predictions_cluster, by = join_by('seurat_clusters' == 'cluster')) |>\n",
    "    pull(labels)\n",
    "\n",
    "seurat$labels_per_cluster <- annotations\n",
    "\n",
    "Idents(seurat) <- 'labels_per_cluster'\n",
    "DimPlot(seurat, label = T, label.size = 2.5)\n",
    "ggsave(paste0('UMAP_cluster_SingleR_annotations','.pdf'), path = local_path, width = 8, height = 5)\n",
    "DimPlot(seurat, label = T, label.size = 2.5, split.by = 'Groups')\n",
    "ggsave(paste0('UMAP_cluster_SingleR_annotations_by_group','.pdf'), path = local_path, width = 13, height = 5)\n",
    "\n",
    ":::"
   ]
  },
  {
   "cell_type": "markdown",
   "metadata": {},
   "source": [
    ":::{.content-visible when-meta='processing'}\n",
    "Annotations per Sample\n",
    ":::"
   ]
  },
  {
   "cell_type": "code",
   "execution_count": null,
   "metadata": {
    "vscode": {
     "languageId": "r"
    }
   },
   "outputs": [],
   "source": [
    ":::{.content-visible when-meta='processing'}\n",
    "\n",
    "immgen <- ImmGenData(ensembl = FALSE)\n",
    "predictions_cell_basis <- SingleR(test = as.SingleCellExperiment(seurat), assay.type.test = 1, ref = immgen, labels = immgen$label.main)\n",
    "\n",
    "predictions_cell_basis <- predictions_cell_basis |>\n",
    "    as_tibble() |> \n",
    "    dplyr::select(c('labels')) \n",
    "\n",
    "predictions_cell_basis <- predictions_cell_basis |> rename('labels_per_cell_coarse' = 'labels')\n",
    "\n",
    "seurat$labels_per_cell_coarse <- predictions_cell_basis |> pull(labels_per_cell_coarse)\n",
    "    \n",
    "Idents(seurat) <- 'labels_per_cell_coarse'\n",
    "DimPlot_scCustom(seurat, label = F)#+ theme(legend.position = 'none')\n",
    "ggsave(paste0('UMAP_cell_SingleR_annotations_coarse','.pdf'), path = local_path, width = 5, height = 5)\n",
    "DimPlot_scCustom(seurat, label = F, split.by = 'Groups')#+ theme(legend.position = 'none')\n",
    "ggsave(paste0('UMAP_cell_SingleR_annotations_coarse_by_group','.pdf'), path = local_path, width = 13, height = 5)\n",
    "\n",
    ":::"
   ]
  },
  {
   "cell_type": "markdown",
   "metadata": {},
   "source": [
    ":::{.content-visible when-meta='verbose'}\n",
    "### Top genes per cluster \n",
    ":::"
   ]
  },
  {
   "cell_type": "code",
   "execution_count": null,
   "metadata": {
    "vscode": {
     "languageId": "r"
    }
   },
   "outputs": [],
   "source": [
    "object_annotations <- 'pre_filtering'\n",
    " \n",
    "Idents(seurat) <- 'seurat_clusters'\n",
    "\n",
    "seurat.markers <- FindAllMarkers(seurat, only.pos = TRUE, min.pct = 0.25, logfc.threshold = 0.25)\n",
    "\n",
    "# saveRDS(seurat.markers, file = 'seurat.markers.rds')\n",
    "\n",
    "\n",
    "\n",
    "#Add gene annotations:\n",
    "annotations <- read.csv(here(\"scripts/annotations.csv\"))\n",
    "seurat.markers <- seurat.markers |>\n",
    "                left_join(y= unique(annotations[,c('gene_name', 'description')]),\n",
    "                    by = c('gene' = 'gene_name'))\n",
    "\n",
    "                    \n",
    "\n",
    "#Top10 markers\n",
    "seurat.markers %>%\n",
    "    group_by(cluster) %>%\n",
    "    arrange(desc(avg_log2FC)) |>\n",
    "    slice_head(n = 10) -> top10\n",
    "\n",
    "#Top25 markers\n",
    "seurat.markers %>%\n",
    "    group_by(cluster) %>%\n",
    "    arrange(desc(avg_log2FC)) |>\n",
    "    slice_head(n = 25) -> top25\n",
    "\n",
    "#Top100 markers\n",
    "seurat.markers %>%\n",
    "    group_by(cluster) %>%\n",
    "    arrange(desc(avg_log2FC)) |>\n",
    "    slice_head(n = 100) -> top100\n",
    "\n",
    "#Top3 markers\n",
    "seurat.markers %>%\n",
    "    group_by(cluster) %>%\n",
    "    arrange(desc(avg_log2FC)) |>\n",
    "    slice_head(n = 3) -> top3\n",
    "\n",
    "write.table(top100,file=paste0(path,'top100', '_',object_annotations, \".tsv\"), sep=\"\\t\",row.names = FALSE)\n",
    "# write.table(top25,file=paste0(path,'top25',object_annotations, \".tsv\"), sep=\"\\t\",row.names = FALSE)\n",
    "write.table(top10,file=paste0(path,'top10', '_',object_annotations, \".tsv\"), sep=\"\\t\",row.names = FALSE)\n",
    "\n",
    "\n",
    "# # #Top5 markers\n",
    "# seurat.markers %>%\n",
    "#     group_by(cluster) %>%\n",
    "#     slice_head(n = 5) -> top5\n",
    "# DoHeatmap(seurat, features = top5$gene, size = 1) + NoLegend() & theme(text=element_text(size=6))\n",
    "# ggsave(paste0(\"Heatmap_Top5_per_cluster\", object_annotations, \".pdf\"), path = path)\n",
    "\n",
    "# #Top10 markers\n",
    "# seurat.markers %>%\n",
    "#      group_by(cluster) %>%\n",
    "#      slice_head(n = 10) -> top10\n",
    "#  DoHeatmap(seurat, features = top10$gene, size = 1) + NoLegend() & theme(text=element_text(size=4)) \n",
    "#  ggsave(paste0(\"Heatmap_Top10_per_cluster\", object_annotations, \".pdf\"), path = path)\n",
    "\n",
    "gene_list_plot <- top3 |> pull(gene)\n",
    "\n",
    "pdf(paste0(figures_path, 'Top_3_per_cluster_dotplot_', object_annotations, '.pdf'))\n",
    "Clustered_DotPlot(seurat, features=gene_list_plot, k=length(unique(seurat$seurat_clusters)), plot_km_elbow = FALSE, cluster_ident=FALSE, ggplot_default_colors = T)\n",
    "\n",
    "dev.off()\n",
    "\n",
    "\n",
    "    "
   ]
  },
  {
   "cell_type": "markdown",
   "metadata": {},
   "source": [
    ":::{.content-visible when-meta='processing'}\n",
    "### Plotting individual genes of interest for cluster identification\n",
    ":::"
   ]
  },
  {
   "cell_type": "code",
   "execution_count": null,
   "metadata": {
    "vscode": {
     "languageId": "r"
    }
   },
   "outputs": [],
   "source": [
    ":::{.content-visible when-meta='processing'}\n",
    "\n",
    "FeaturePlot_scCustom(seurat, features = c('Cd4', 'Tbx21', 'Vil1', 'Cd19', 'Cd3e', 'Foxp3', 'Rorc', 'Gata3', 'Trbc1', 'Trbc2', 'Trac'))\n",
    "\n",
    "\n",
    ":::"
   ]
  },
  {
   "cell_type": "markdown",
   "metadata": {},
   "source": [
    ":::{.content-visible when-meta='processing'}\n",
    "### Subsetting \n",
    ":::"
   ]
  },
  {
   "cell_type": "code",
   "execution_count": null,
   "metadata": {
    "vscode": {
     "languageId": "r"
    }
   },
   "outputs": [],
   "source": [
    ":::{.content-visible when-meta='processing'}\n",
    "\n",
    "Idents(seurat) <- 'seurat_clusters'\n",
    "seurat <- subset(seurat, idents = c('13', '16', '3', '15', '18'), invert = T)\n",
    "DimPlot(seurat, label = T)\n",
    "\n",
    ":::"
   ]
  },
  {
   "cell_type": "code",
   "execution_count": null,
   "metadata": {
    "vscode": {
     "languageId": "r"
    }
   },
   "outputs": [],
   "source": [
    "saveRDS(seurat, here('data', 'scRNAseq_aCD3.rds'))"
   ]
  },
  {
   "cell_type": "markdown",
   "metadata": {},
   "source": [
    ":::{.content-visible when-meta='processing'}\n",
    "## Reclustering\n",
    ":::"
   ]
  },
  {
   "cell_type": "code",
   "execution_count": null,
   "metadata": {
    "vscode": {
     "languageId": "r"
    }
   },
   "outputs": [],
   "source": [
    "# Normalize RNA data with log normalization\n",
    "seurat <- NormalizeData(seurat, assay = \"RNA\",normalization.method = \"LogNormalize\", scale.factor = 10000)"
   ]
  },
  {
   "cell_type": "code",
   "execution_count": null,
   "metadata": {
    "vscode": {
     "languageId": "r"
    }
   },
   "outputs": [],
   "source": [
    ":::{.content-visible when-meta='processing'}\n",
    "\n",
    "# Find and scale variable features\n",
    "DefaultAssay(seurat) <- \"RNA\"\n",
    "seurat <- FindVariableFeatures(seurat, selection.method = \"vst\", nfeatures = 2000)\n",
    "\n",
    "top25  <- head(VariableFeatures(seurat), 25)\n",
    "\n",
    "# plot1 <- VariableFeaturePlot(seurat)\n",
    "# plot2 <- LabelPoints(plot = plot1, points=top25, repel=TRUE)\n",
    "# plot1+plot2\n",
    "\n",
    "#Scaling the Data\n",
    "all.genes <- rownames(seurat)\n",
    "seurat <- ScaleData(seurat, features=all.genes)\n",
    "\n",
    "#Dimensionality reduction\n",
    "seurat <- RunPCA(seurat, features = VariableFeatures(object=seurat), npcs=200)\n",
    "\n",
    "#Determining dimensionality of the dataset\n",
    "ElbowPlot(seurat, ndims = 200)\n",
    "\n",
    ":::"
   ]
  },
  {
   "cell_type": "code",
   "execution_count": null,
   "metadata": {
    "vscode": {
     "languageId": "r"
    }
   },
   "outputs": [],
   "source": [
    "# Describe number of dimensions\n",
    "\n",
    "dimensions  <- 45\n"
   ]
  },
  {
   "cell_type": "code",
   "execution_count": null,
   "metadata": {
    "vscode": {
     "languageId": "r"
    }
   },
   "outputs": [],
   "source": [
    "#| output: false\n",
    "resolutions <- c(0.25, 0.5, 1, 1.25, 1.5, 1.75, 2, 3, 4, 5)\n",
    "seurat <- FindNeighbors(seurat, dims = 1:dimensions)\n",
    "seurat <- FindClusters(seurat, resolution = resolutions)\n",
    "seurat <- RunUMAP(seurat, dims=1:dimensions )"
   ]
  },
  {
   "cell_type": "code",
   "execution_count": null,
   "metadata": {
    "vscode": {
     "languageId": "r"
    }
   },
   "outputs": [],
   "source": [
    ":::{.content-visible when-meta='processing'}\n",
    "\n",
    "p <- list()\n",
    "i <- 1\n",
    "for (resolution in resolutions ) {\n",
    "    Idents(seurat) <- paste0('RNA_snn_res.', resolution) \n",
    "    p2 <- DimPlot(seurat, reduction = \"umap\", label = TRUE) + ggtitle(paste0('R ', resolution)) + theme(legend.position = \"none\")    \n",
    "    p[[i]] <- p2\n",
    "    i <- i+1\n",
    "}\n",
    "\n",
    "plot <- grid.arrange(grobs = p)\n",
    "# ggsave('initial_clustering_results_by_resolution.pdf', path = here('result/figures'), plot = plot)\n",
    "\n",
    ":::"
   ]
  },
  {
   "cell_type": "markdown",
   "metadata": {},
   "source": [
    ":::{.content-visible when-meta='processing'}\n",
    "Chosen resolution\n",
    ":::"
   ]
  },
  {
   "cell_type": "code",
   "execution_count": null,
   "metadata": {
    "vscode": {
     "languageId": "r"
    }
   },
   "outputs": [],
   "source": [
    ":::{.content-visible when-meta='processing'}\n",
    "\n",
    "#| echo: true\n",
    "resolution <- 0.25\n",
    "\n",
    ":::"
   ]
  },
  {
   "cell_type": "markdown",
   "metadata": {},
   "source": [
    "# Analysis"
   ]
  },
  {
   "cell_type": "markdown",
   "metadata": {},
   "source": [
    "## Clustering Results"
   ]
  },
  {
   "cell_type": "code",
   "execution_count": null,
   "metadata": {
    "vscode": {
     "languageId": "r"
    }
   },
   "outputs": [],
   "source": [
    "Idents(seurat) <- paste0('RNA_snn_res.', resolution)\n",
    "seurat[['seurat_clusters']]<- Idents(seurat)\n",
    "DimPlot(seurat, reduction = \"umap\", label = TRUE) + ggtitle(paste0('R ', resolution)) + theme(legend.position = \"none\")\n",
    "ggsave(paste0('UMAP_clusters_R_', resolution, '.pdf'), path = figures_path)\n",
    "DimPlot(seurat, reduction = \"umap\", label = TRUE, split.by = 'Groups', ncol = 2) + ggtitle(paste0('R ', resolution)) + theme(legend.position = \"none\")\n",
    "ggsave(paste0('UMAP_clusters_by_group_R_', resolution, '.pdf'), path = figures_path, width = 12, height = 5)\n",
    "DimPlot(seurat, reduction = \"umap\", label = TRUE, split.by = 'Samples', ncol = 4) + ggtitle(paste0('R ', resolution)) + theme(legend.position = \"none\")\n",
    "ggsave(paste0('UMAP_clusters_by_sample_R_', resolution, '.pdf'), path = figures_path)"
   ]
  },
  {
   "cell_type": "markdown",
   "metadata": {},
   "source": [
    "## Cluster Proportions"
   ]
  },
  {
   "cell_type": "code",
   "execution_count": null,
   "metadata": {
    "vscode": {
     "languageId": "r"
    }
   },
   "outputs": [],
   "source": [
    "#path <- './'\n",
    "# Extracting cell counts for bar graphs\n",
    "cell_counts <- FetchData(seurat,vars=c('seurat_clusters', \"Samples\")) \n",
    "cell_counts <- arrange(cell_counts, Samples)\n",
    "\n",
    "\n",
    "counts <- cell_counts %>% add_count(Samples, name='total_cell_count_by_sample') #%>%  ungroup() %>% arrange( seurat_clusters , desc(hash.ID) ) #%>% arrange('seurat_clusters')\n",
    "\n",
    "counts <- counts %>% \n",
    "    dplyr::count(seurat_clusters, Samples, total_cell_count_by_sample,name='cluster_count')  |> \n",
    "        mutate(frequency_within_sample=cluster_count*100/total_cell_count_by_sample)  |> \n",
    "        mutate(Samples = as.character(Samples)) |> \n",
    "\n",
    "        arrange( Samples, desc(Samples)) #%>% arrange('seurat_clusters')\n",
    "\n",
    "new_counts <- counts |> \n",
    "    arrange(Samples) |>     \n",
    "    pivot_wider(id_cols = seurat_clusters, names_from = 'Samples', values_from = frequency_within_sample)\n",
    "    \n",
    "write.csv(new_counts,file=paste0(path,\"number of cells per cluster per condition.csv\"),row.names=F)\n",
    "\n",
    "colors <- c('deeppink', 'deeppink3', 'hotpink', 'hotpink4', 'cadetblue', 'cadetblue2', 'deepskyblue', 'deepskyblue4')\n",
    "# Barplot of proportion of cells in each cluster by sample\n",
    "ggplot(seurat@meta.data) +\n",
    "    geom_bar(aes(x=Groups, fill=seurat_clusters), position=position_fill()) \n",
    "ggsave(paste0(figures_path, 'cells_per_cluster_per_group.pdf'))\n",
    "\n",
    "# Barplot of proportion of cells in each cluster by sample\n",
    "ggplot(seurat@meta.data) +\n",
    "    geom_bar(aes(x=Samples, fill=seurat_clusters), position=position_fill())+ theme(axis.text.x = element_text(angle = 45, vjust = 1))\n",
    "ggsave(paste0(figures_path, 'cells_per_cluster_per_sample.pdf'))\n",
    "    "
   ]
  },
  {
   "cell_type": "markdown",
   "metadata": {},
   "source": [
    "## Top gene per cluster"
   ]
  },
  {
   "cell_type": "code",
   "execution_count": null,
   "metadata": {
    "vscode": {
     "languageId": "r"
    }
   },
   "outputs": [],
   "source": [
    "object_annotations <- 'global'\n",
    " \n",
    "Idents(seurat) <- 'seurat_clusters'\n",
    "\n",
    "seurat.markers <- FindAllMarkers(seurat, only.pos = TRUE, min.pct = 0.25, logfc.threshold = 0.25)\n",
    "\n",
    "# saveRDS(seurat.markers, file = 'seurat.markers.rds')\n",
    "\n",
    "\n",
    "\n",
    "#Add gene annotations:\n",
    "annotations <- read.csv(here(\"scripts/annotations.csv\"))\n",
    "seurat.markers <- seurat.markers |>\n",
    "                left_join(y= unique(annotations[,c('gene_name', 'description')]),\n",
    "                    by = c('gene' = 'gene_name'))\n",
    "\n",
    "                    \n",
    "\n",
    "#Top10 markers\n",
    "seurat.markers %>%\n",
    "    group_by(cluster) %>%\n",
    "    arrange(desc(avg_log2FC)) |>\n",
    "    slice_head(n = 10) -> top10\n",
    "\n",
    "#Top25 markers\n",
    "seurat.markers %>%\n",
    "    group_by(cluster) %>%\n",
    "    arrange(desc(avg_log2FC)) |>\n",
    "    slice_head(n = 25) -> top25\n",
    "\n",
    "#Top100 markers\n",
    "seurat.markers %>%\n",
    "    group_by(cluster) %>%\n",
    "    arrange(desc(avg_log2FC)) |>\n",
    "    slice_head(n = 100) -> top100\n",
    "\n",
    "#Top3 markers\n",
    "seurat.markers %>%\n",
    "    group_by(cluster) %>%\n",
    "    arrange(desc(avg_log2FC)) |>\n",
    "    slice_head(n = 3) -> top3\n",
    "\n",
    "write.table(top100,file=paste0(path,'top100', '_',object_annotations, \".tsv\"), sep=\"\\t\",row.names = FALSE)\n",
    "# write.table(top25,file=paste0(path,'top25',object_annotations, \".tsv\"), sep=\"\\t\",row.names = FALSE)\n",
    "write.table(top10,file=paste0(path,'top10', '_',object_annotations, \".tsv\"), sep=\"\\t\",row.names = FALSE)\n",
    "\n",
    "\n",
    "# # #Top5 markers\n",
    "# seurat.markers %>%\n",
    "#     group_by(cluster) %>%\n",
    "#     slice_head(n = 5) -> top5\n",
    "# DoHeatmap(seurat, features = top5$gene, size = 1) + NoLegend() & theme(text=element_text(size=6))\n",
    "# ggsave(paste0(\"Heatmap_Top5_per_cluster\", object_annotations, \".pdf\"), path = path)\n",
    "\n",
    "# #Top10 markers\n",
    "# seurat.markers %>%\n",
    "#      group_by(cluster) %>%\n",
    "#      slice_head(n = 10) -> top10\n",
    "#  DoHeatmap(seurat, features = top10$gene, size = 1) + NoLegend() & theme(text=element_text(size=4)) \n",
    "#  ggsave(paste0(\"Heatmap_Top10_per_cluster\", object_annotations, \".pdf\"), path = path)\n",
    "\n",
    "gene_list_plot <- top3 |> pull(gene)\n",
    "\n",
    "pdf(paste0(figures_path, 'Top_3_per_cluster_dotplot_', object_annotations, '.pdf'))\n",
    "Clustered_DotPlot(seurat, features=gene_list_plot, k=length(unique(seurat$seurat_clusters)), plot_km_elbow = FALSE, cluster_ident=FALSE, ggplot_default_colors = T)\n",
    "\n",
    "dev.off()\n",
    "\n",
    "\n",
    "    "
   ]
  },
  {
   "cell_type": "markdown",
   "metadata": {},
   "source": [
    ":::{.content-visible when-meta='processing'}\n",
    "### Automatic cell type annotations\n",
    ":::"
   ]
  },
  {
   "cell_type": "code",
   "execution_count": null,
   "metadata": {
    "vscode": {
     "languageId": "r"
    }
   },
   "outputs": [],
   "source": [
    ":::{.content-visible when-meta='verbose'}\n",
    "\n",
    "local_path <- paste0(results_path,object_annotations,'cell_type_annotations')\n",
    "unlink(local_path,recursive = T)\n",
    "dir.create(local_path)\n",
    "\n",
    ":::"
   ]
  },
  {
   "cell_type": "markdown",
   "metadata": {},
   "source": [
    "Annotation per Group "
   ]
  },
  {
   "cell_type": "code",
   "execution_count": null,
   "metadata": {
    "vscode": {
     "languageId": "r"
    }
   },
   "outputs": [],
   "source": [
    ":::{.content-visible when-meta='processing'}\n",
    "\n",
    "immgen <- ImmGenData(ensembl = FALSE)\n",
    "predictions_cluster <- SingleR(test = as.SingleCellExperiment(seurat), assay.type.test = 1, ref = immgen, labels = immgen$label.fine, cluster = seurat$seurat_clusters)\n",
    "\n",
    "row.names <- rownames(predictions_cluster)\n",
    "\n",
    "predictions_cluster <- predictions_cluster |>\n",
    "    as_tibble() |> \n",
    "    dplyr::select(c('labels')) \n",
    "\n",
    "predictions_cluster$cluster <- row.names\n",
    "\n",
    "#predictions_cluster <- predictions_cluster |> rename('labels_per_cluster' = 'labels')\n",
    "\n",
    "annotations <- seurat@meta.data |>\n",
    "    left_join(predictions_cluster, by = join_by('seurat_clusters' == 'cluster')) |>\n",
    "    pull(labels)\n",
    "\n",
    "seurat$labels_per_cluster <- annotations\n",
    "\n",
    "Idents(seurat) <- 'labels_per_cluster'\n",
    "DimPlot(seurat, label = T, label.size = 2.5)\n",
    "ggsave(paste0('UMAP_cluster_SingleR_annotations','.pdf'), path = local_path, width = 8, height = 5)\n",
    "DimPlot(seurat, label = T, label.size = 2.5, split.by = 'Groups')\n",
    "ggsave(paste0('UMAP_cluster_SingleR_annotations_by_group','.pdf'), path = local_path, width = 13, height = 5)\n",
    "\n",
    ":::"
   ]
  },
  {
   "cell_type": "markdown",
   "metadata": {},
   "source": [
    "Annotations per Sample"
   ]
  },
  {
   "cell_type": "code",
   "execution_count": null,
   "metadata": {
    "vscode": {
     "languageId": "r"
    }
   },
   "outputs": [],
   "source": [
    ":::{.content-visible when-meta='processing'}\n",
    "\n",
    "immgen <- ImmGenData(ensembl = FALSE)\n",
    "predictions_cell_basis <- SingleR(test = as.SingleCellExperiment(seurat), assay.type.test = 1, ref = immgen, labels = immgen$label.main)\n",
    "\n",
    "predictions_cell_basis <- predictions_cell_basis |>\n",
    "    as_tibble() |> \n",
    "    dplyr::select(c('labels')) \n",
    "\n",
    "predictions_cell_basis <- predictions_cell_basis |> rename('labels_per_cell_coarse' = 'labels')\n",
    "\n",
    "seurat$labels_per_cell_coarse <- predictions_cell_basis |> pull(labels_per_cell_coarse)\n",
    "    \n",
    "Idents(seurat) <- 'labels_per_cell_coarse'\n",
    "DimPlot_scCustom(seurat, label = F)#+ theme(legend.position = 'none')\n",
    "ggsave(paste0('UMAP_cell_SingleR_annotations_coarse','.pdf'), path = local_path, width = 5, height = 5)\n",
    "DimPlot_scCustom(seurat, label = F, split.by = 'Groups')#+ theme(legend.position = 'none')\n",
    "ggsave(paste0('UMAP_cell_SingleR_annotations_coarse_by_group','.pdf'), path = local_path, width = 13, height = 5)\n",
    "\n",
    ":::"
   ]
  },
  {
   "cell_type": "code",
   "execution_count": null,
   "metadata": {
    "vscode": {
     "languageId": "r"
    }
   },
   "outputs": [],
   "source": [
    "#| output: false\n",
    "immgen <- ImmGenData(ensembl = FALSE)\n",
    "predictions_cell_basis <- SingleR(test = as.SingleCellExperiment(seurat), assay.type.test = 1, ref = immgen, labels = immgen$label.fine)\n",
    "\n",
    "predictions_cell_basis <- predictions_cell_basis |>\n",
    "    as_tibble() |> \n",
    "    dplyr::select(c('labels')) \n",
    "\n",
    "predictions_cell_basis <- predictions_cell_basis |> rename('labels_per_cell_fine' = 'labels')\n",
    "\n",
    "seurat$labels_per_cell_fine <- predictions_cell_basis |> pull(labels_per_cell_fine)\n",
    "    \n",
    "Idents(seurat) <- 'labels_per_cell_fine'\n",
    "DimPlot_scCustom(seurat, label = F)#+ theme(legend.position = 'none')\n",
    "ggsave(paste0('UMAP_cell_SingleR_annotations_fine','.pdf'), path =local_path, width = 17, height = 5)\n",
    "DimPlot_scCustom(seurat, label = F, split.by = 'Groups')#+ theme(legend.position = 'none')\n",
    "ggsave(paste0('UMAP_cell_SingleR_annotations_fine_by_group','.pdf'), path =local_path, width = 30, height = 5)"
   ]
  },
  {
   "cell_type": "markdown",
   "metadata": {},
   "source": [
    ":::{.content-visible when-meta='verbose'}\n",
    "## Save Object\n",
    ":::"
   ]
  },
  {
   "cell_type": "code",
   "execution_count": null,
   "metadata": {
    "vscode": {
     "languageId": "r"
    }
   },
   "outputs": [],
   "source": [
    "saveRDS(seurat, file = 'scRNAseq_.rds')"
   ]
  },
  {
   "cell_type": "markdown",
   "metadata": {},
   "source": [
    "## Plotting Genes of Interest"
   ]
  },
  {
   "cell_type": "code",
   "execution_count": null,
   "metadata": {
    "vscode": {
     "languageId": "r"
    }
   },
   "outputs": [],
   "source": []
  },
  {
   "cell_type": "markdown",
   "metadata": {},
   "source": [
    "## Annotating clusters"
   ]
  },
  {
   "cell_type": "code",
   "execution_count": null,
   "metadata": {
    "vscode": {
     "languageId": "r"
    }
   },
   "outputs": [],
   "source": [
    "Idents(seurat) <- 'seurat_clusters'\n",
    "seurat <- RenameIdents(seurat\n",
    "    , '0' = 'Tbet+ (Steady state)'  \n",
    "    , '1' = 'Treg'\n",
    "    , '2' = 'Tbet+ (In vivo activated)'\n",
    "    , '3' = 'LN-like'\n",
    "    , '4' = 'Tbet+ (In vivo activated)'\n",
    "    , '5' = 'iNKT (Steady state)'\n",
    "    , '6' = 'Th17 (In vivo activated)'\n",
    "    , '7' = 'Th17 (Steady state)' \n",
    "    , '8' = 'iNKT (In vivo activated)'\n",
    "    , '9' = 'Proliferating Tregs'\n",
    "    , '10' = 'LN-like'\n",
    "    , '11' = 'LN-like'\n",
    "    , '12' = 'Cycling'\n",
    "    , '13' = 'ND'\n",
    "    , '14' = 'Treg'\n",
    "    , '16' = 'Tbet+ (In vivo activated)'\n",
    "    , '17' = 'Th17 (Steady state)'\n",
    "    , '18' = 'ISG'\n",
    "    , '19' = 'LN-like'\n",
    ")\n",
    "seurat[['cell_types']] <- Idents(seurat)"
   ]
  },
  {
   "cell_type": "code",
   "execution_count": null,
   "metadata": {
    "vscode": {
     "languageId": "r"
    }
   },
   "outputs": [],
   "source": [
    "Idents(seurat) <- 'cell_types'\n",
    "DimPlot(seurat, label=F, ncol = 2) \n",
    "ggsave('UMAP_cell_types.pdf', path = figures_path)\n",
    "\n",
    "DimPlot(seurat, label=F, split.by = 'Groups', ncol = 2)\n",
    "ggsave('UMAP_cell_types_by_group.pdf', path = figures_path, width = 12, height = 5)\n",
    "\n",
    "DimPlot(seurat, label=F, split.by = 'Samples', ncol = 2)\n",
    "ggsave('UMAP_cell_types_by_sample.pdf', path = figures_path, width = 12, height = 5)\n"
   ]
  },
  {
   "cell_type": "markdown",
   "metadata": {},
   "source": [
    ":::{.content-visible when-meta='verbose'}\n",
    "## Saving object\n",
    ":::"
   ]
  },
  {
   "cell_type": "code",
   "execution_count": null,
   "metadata": {
    "vscode": {
     "languageId": "r"
    }
   },
   "outputs": [],
   "source": [
    "saveRDS(seurat, file='scRNAseq_.rds')"
   ]
  },
  {
   "cell_type": "markdown",
   "metadata": {},
   "source": [
    "## Cell frequency per condition"
   ]
  },
  {
   "cell_type": "code",
   "execution_count": null,
   "metadata": {
    "vscode": {
     "languageId": "r"
    }
   },
   "outputs": [],
   "source": [
    "#path <- './'\n",
    "# Extracting cell counts for bar graphs\n",
    "cell_counts <- FetchData(seurat,vars=c('cell_types', \"Samples\")) \n",
    "cell_counts <- arrange(cell_counts, Samples)\n",
    "\n",
    "\n",
    "counts <- cell_counts %>% add_count(Samples, name='total_cell_count_by_sample') #%>%  ungroup() %>% arrange( cell_types , desc(hash.ID) ) #%>% arrange('cell_types')\n",
    "\n",
    "counts <- counts %>% \n",
    "    dplyr::count(cell_types, Samples, total_cell_count_by_sample,name='cluster_count')  |> \n",
    "        mutate(frequency_within_sample=cluster_count*100/total_cell_count_by_sample)  |> \n",
    "        mutate(Samples = as.character(Samples)) |> \n",
    "\n",
    "        arrange( Samples, desc(Samples)) #%>% arrange('cell_types')\n",
    "\n",
    "new_counts <- counts |> \n",
    "    arrange(Samples) |>     \n",
    "    pivot_wider(id_cols = cell_types, names_from = 'Samples', values_from = frequency_within_sample)\n",
    "    \n",
    "write.csv(new_counts,file=paste0(path,\"number of cells per cluster per condition.csv\"),row.names=F)\n",
    "\n",
    "colors <- c('deeppink', 'deeppink3', 'hotpink', 'hotpink4', 'cadetblue', 'cadetblue2', 'deepskyblue', 'deepskyblue4')\n",
    "# Barplot of proportion of cells in each cluster by sample\n",
    "ggplot(seurat@meta.data) +\n",
    "    geom_bar(aes(x=Groups, fill=cell_types), position=position_fill()) \n",
    "ggsave(paste0(figures_path, 'cells_per_cluster_per_group.pdf'))\n",
    "\n",
    "# Barplot of proportion of cells in each cluster by sample\n",
    "ggplot(seurat@meta.data) +\n",
    "    geom_bar(aes(x=Samples, fill=cell_types), position=position_fill())+ theme(axis.text.x = element_text(angle = 45, vjust = 1))\n",
    "ggsave(paste0(figures_path, 'cells_per_cluster_per_sample.pdf'))\n",
    "    "
   ]
  },
  {
   "cell_type": "markdown",
   "metadata": {},
   "source": [
    "# Differential gene expression analysis"
   ]
  },
  {
   "cell_type": "markdown",
   "metadata": {},
   "source": [
    "## Pseudobulk analysis by condition"
   ]
  },
  {
   "cell_type": "code",
   "execution_count": null,
   "metadata": {
    "vscode": {
     "languageId": "r"
    }
   },
   "outputs": [],
   "source": [
    "## SPF\n",
    "genes_of_interest <- list('suppressive signature' = c('Il10', 'Ctla4', 'Tigit', 'Havcr2', 'Gzma', 'Lag3', 'Foxp3'))\n",
    "\n",
    "path <- paste0(results_path, 'DEG_analysis_SPF_aCD3_vs_isotype/')\n",
    "unlink(path,recursive = T)\n",
    "dir.create(path)\n",
    "Idents(seurat) <- 'cell_types'\n",
    "\n",
    "DEG_counts <- data.frame(matrix(ncol=3, nrow=0))\n",
    "colnames(DEG_counts) <- c('DEG_count', 'DEG_UP_count', 'DEG_DOWN_count')\n",
    "rnames <- c('all_cell_types')\n",
    "\n",
    "scRNAseq_small <- subset(seurat, subset = Condition == 'SPF')\n",
    "unique(scRNAseq_small$Samples)\n",
    "\n",
    "DEG_counts <- pseudobulk(scRNAseq_small, comparison='Samples', group1='iso', group2='aCD3', cluster='all_clusters', path=path, label_threshold = 10000, max_overlaps = 25,gene_lists_to_plot = genes_of_interest, FC_threshold = 1, p_value_threshold = 0.01)\n",
    "\n",
    "for (x in unique(seurat$cell_types_coarse)) {\n",
    "    scRNAseq1 <- subset(scRNAseq_small, subset = cell_types_coarse == x )\n",
    "    counts <- pseudobulk(scRNAseq1, comparison='Samples', group1='iso', group2='aCD3', cluster= x , path=path, label_threshold = 10000, max_overlaps = 25,gene_lists_to_plot = genes_of_interest, FC_threshold = 1,p_value_threshold = 0.01)\n",
    "    DEG_counts <- rbind(DEG_counts, counts)\n",
    "    rnames <- c(rnames, x)\n",
    "}"
   ]
  }
 ],
 "metadata": {
  "kernelspec": {
   "display_name": "R",
   "language": "R",
   "name": "r"
  },
  "language_info": {
   "codemirror_mode": "r",
   "file_extension": ".r",
   "mimetype": "text/x-r-source",
   "name": "R",
   "pygments_lexer": "r",
   "version": "4.5.1"
  },
  "orig_nbformat": 4
 },
 "nbformat": 4,
 "nbformat_minor": 2
}
