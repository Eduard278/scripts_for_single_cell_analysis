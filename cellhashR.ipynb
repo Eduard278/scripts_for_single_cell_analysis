{
 "cells": [
  {
   "cell_type": "markdown",
   "metadata": {},
   "source": [
    "# cellhashR HTO demultiplexing"
   ]
  },
  {
   "cell_type": "code",
   "execution_count": null,
   "metadata": {
    "vscode": {
     "languageId": "r"
    }
   },
   "outputs": [],
   "source": [
    "library(cellhashR)\n",
    "\n",
    "CallAndGenerateReport(rawCountData = \"G:/Belkaid_Lab_RNASeq_Data/Claudia_Rivera/single_cell_data/DC_20231026/scRNA_seq_gut_aggr_normalized4/outs/count/filtered_feature_bc_matrix\", reportFile = 'report.html', callFile = 'calls.txt', title = 'Cell Hashing For Experiment DC_Claudia', methods = c('bff_cluster', 'htodemux', 'bff_raw', 'multiseq', 'dropletutils'), majorityConsensusThreshold = 0.59, doTSNE = FALSE,datatypeName = 'Antibody Capture')\n"
   ]
  },
  {
   "cell_type": "code",
   "execution_count": null,
   "metadata": {
    "vscode": {
     "languageId": "r"
    }
   },
   "outputs": [],
   "source": [
    "calls <- read.csv('calls.txt', sep='\\t')"
   ]
  },
  {
   "cell_type": "code",
   "execution_count": null,
   "metadata": {
    "vscode": {
     "languageId": "r"
    }
   },
   "outputs": [],
   "source": [
    "# library(cellhashR)\n",
    "# # Example 1: parse CITE-seq-Count output, printing QC\n",
    "# barcodeData <- ProcessCountMatrix(rawCountData = \"G:/Belkaid_Lab_RNASeq_Data/Claudia_Rivera/single_cell_data/DC_20231026/scRNA_seq_gut_aggr_normalized4/outs/count/filtered_feature_bc_matrix\", minCountPerCell = 5, datatypeName='Antibody Capture')\n",
    "# # Create QC plots of barcode normalization\n",
    "# PlotNormalizationQC(barcodeData)\n",
    "\n",
    "# # Generate the final cell hashing calls\n",
    "# calls <- GenerateCellHashingCalls(barcodeMatrix = barcodeData,methods = c('bff_cluster', 'htodemux', 'bff_raw', 'multiseq', 'dropletutils'), chemistry='10xV2', metricsFile='methods_QC.html', majorityConsensusThreshold=0.59, doTSNE=FALSE) \n",
    "\n",
    "# Inspect negative cells:\n",
    "# SummarizeCellsByClassification(calls = calls, barcodeMatrix = barcodeData)\n",
    "# write.table(calls, file = 'calls.tsv', sep = '\\t', row.names = FALSE, quote = FALSE)"
   ]
  },
  {
   "cell_type": "markdown",
   "metadata": {},
   "source": [
    "### Add classification to seurat"
   ]
  },
  {
   "cell_type": "code",
   "execution_count": null,
   "metadata": {
    "vscode": {
     "languageId": "r"
    }
   },
   "outputs": [],
   "source": [
    "rownames(calls) <- calls$cellbarcode\n",
    "scRNAseq <- AddMetaData(object = scRNAseq,metadata = calls['consensuscall'],col.name = 'consensuscall')\n",
    "scRNAseq <- AddMetaData(object = scRNAseq,metadata = calls['consensuscall.global'],col.name = 'consensuscall.global')"
   ]
  },
  {
   "attachments": {},
   "cell_type": "markdown",
   "metadata": {},
   "source": [
    "### Data Normalization"
   ]
  },
  {
   "cell_type": "code",
   "execution_count": null,
   "metadata": {
    "vscode": {
     "languageId": "r"
    }
   },
   "outputs": [],
   "source": [
    "# Normalize RNA data with log normalization\n",
    "scRNAseq <- NormalizeData(scRNAseq, assay = \"RNA\",normalization.method = \"LogNormalize\", scale.factor = 10000)\n",
    "\n",
    "# Normalize HTO data with CLR\n",
    "scRNAseq <- NormalizeData(scRNAseq, assay = \"HTO\",normalization.method = \"CLR\")"
   ]
  },
  {
   "cell_type": "markdown",
   "metadata": {},
   "source": [
    "### tSNE visualization"
   ]
  },
  {
   "cell_type": "code",
   "execution_count": null,
   "metadata": {
    "vscode": {
     "languageId": "r"
    }
   },
   "outputs": [],
   "source": [
    "#tSNE-visualization\n",
    "Idents(scRNAseq) <- \"consensuscall.global\"\n",
    "unique(scRNAseq$consensuscall)\n",
    "scRNAseq_subset <- subset(scRNAseq, idents = \"Negative\", invert =TRUE)\n",
    "DefaultAssay(scRNAseq_subset) <- \"HTO\"\n",
    "scRNAseq_subset <- ScaleData(scRNAseq_subset, assay = \"HTO\",  features = rownames(scRNAseq_subset), verbose = FALSE )\n",
    "scRNAseq_subset <- RunPCA(scRNAseq_subset, assay = \"HTO\", rownames(scRNAseq_subset), approx = FALSE)\n",
    "scRNAseq_subset <- RunTSNE(scRNAseq_subset, assay = \"HTO\", dims = 1:24, perplexity = 100, check_duplicates=FALSE)\n",
    "DimPlot(scRNAseq_subset)\n",
    "DimPlot_scCustom(scRNAseq_subset, group.by = 'consensuscall', pt.size=0.1)"
   ]
  },
  {
   "cell_type": "markdown",
   "metadata": {},
   "source": [
    "### Filtering singlets"
   ]
  },
  {
   "cell_type": "code",
   "execution_count": null,
   "metadata": {
    "vscode": {
     "languageId": "r"
    }
   },
   "outputs": [],
   "source": [
    "# Filtering singlets only\n",
    "Idents(scRNAseq) <- \"consensuscall.global\"\n",
    "scRNAseq <-subset(scRNAseq, idents = \"Singlet\")"
   ]
  }
 ],
 "metadata": {
  "kernelspec": {
   "display_name": "R",
   "language": "R",
   "name": "ir"
  },
  "language_info": {
   "codemirror_mode": "r",
   "file_extension": ".r",
   "mimetype": "text/x-r-source",
   "name": "R",
   "pygments_lexer": "r",
   "version": "4.3.2"
  },
  "orig_nbformat": 4
 },
 "nbformat": 4,
 "nbformat_minor": 2
}
