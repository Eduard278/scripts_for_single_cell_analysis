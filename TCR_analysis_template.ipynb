{
 "cells": [
  {
   "cell_type": "raw",
   "metadata": {
    "vscode": {
     "languageId": "raw"
    }
   },
   "source": [
    "---\n",
    "title: \"Analysis template\"\n",
    "author: 'Eduard Ansaldo'\n",
    "date: \"`r Sys.Date()`\"\n",
    "\n",
    "execute:\n",
    "  echo: false\n",
    "  results:\n",
    "  warning: false\n",
    "  message: false\n",
    "\n",
    "\n",
    "verbose: false\n",
    "processing: false\n",
    "format: html\n",
    "---"
   ]
  },
  {
   "cell_type": "markdown",
   "metadata": {
    "vscode": {
     "languageId": "raw"
    }
   },
   "source": [
    "::: {.content-visible when-meta=\"verbose\"}\n",
    "# Initialization\n",
    ":::"
   ]
  },
  {
   "cell_type": "code",
   "execution_count": null,
   "metadata": {
    "vscode": {
     "languageId": "r"
    }
   },
   "outputs": [],
   "source": [
    "# General R and plotting \n",
    "library(tidyverse)\n",
    "library(ggplot2)\n",
    "library(scales)\n",
    "library(patchwork)\n",
    "library(cowplot)\n",
    "library(gridExtra)\n",
    "library(ggrepel)\n",
    "library(stringr)\n",
    "library(VennDiagram)\n",
    "library(pheatmap)\n",
    "library(viridis)\n",
    "library(here)\n",
    "\n",
    "# Single Cell Analysis Packages\n",
    "library(scRepertoire)\n",
    "library(scRepertoire)\n",
    "library(circlize)\n",
    "library(scCustomize)\n",
    "library(SingleR)\n",
    "library(celldex)\n",
    "library(UCell)\n",
    "library(scplotter)\n",
    "\n",
    "# DEG, pathway enrichment and visualization packages\n",
    "library(DESeq2)\n",
    "library(clusterProfiler)\n",
    "library(DOSE)\n",
    "library(pathview)\n",
    "library(org.Mm.eg.db)\n",
    "library(scRepertoire)\n",
    "library(enrichplot)\n",
    "library(msigdbr)\n",
    "library(gprofiler2)\n",
    "\n",
    "source(here('scripts/function_template.r'))"
   ]
  },
  {
   "cell_type": "code",
   "execution_count": null,
   "metadata": {
    "vscode": {
     "languageId": "r"
    }
   },
   "outputs": [],
   "source": [
    "i_am('scripts/Analysis.ipynb')\n",
    "here()\n",
    "path <- here()\n",
    "results_path <- here('results')\n",
    "dir.create(results_path)\n",
    "figures_path <- here('results/figures')\n",
    "dir.create(figures_path)\n",
    "data_path <- here('data')\n",
    "dir.create(data_path)"
   ]
  },
  {
   "cell_type": "markdown",
   "metadata": {},
   "source": [
    ":::{.content-visible when-meta='processing'}\n",
    "# Processing\n",
    ":::"
   ]
  },
  {
   "cell_type": "markdown",
   "metadata": {},
   "source": [
    ":::{.content-visible when-meta='verbose'}\n",
    "## Read in data\n",
    ":::"
   ]
  },
  {
   "cell_type": "code",
   "execution_count": null,
   "metadata": {
    "vscode": {
     "languageId": "r"
    }
   },
   "outputs": [],
   "source": [
    "seurat <- readRDS(here('data'))\n",
    "\n",
    "\n",
    "contigs <- read.csv(\"G:/Belkaid_Lab_RNASeq_Data/Eduard_Ansaldo/single_cell_data/20250103_aCD3/scRNA_seq_gut_aggr_normalized3/outs/vdj_t/filtered_contig_annotations.csv\")\n",
    "\n",
    "#Demultiplexing VDJ libraries\n",
    "contig_list <- createHTOContigList(contigs, seurat, group.by = \"hash.ID\")\n",
    "names(contig_list)\n",
    "\n",
    "contig_list <- contig_list[c(levels(seurat$Samples))]\n",
    "\n",
    "names(contig_list)\n",
    "head(contig_list[[1]])\n"
   ]
  },
  {
   "cell_type": "code",
   "execution_count": null,
   "metadata": {
    "vscode": {
     "languageId": "r"
    }
   },
   "outputs": [],
   "source": [
    "# Combining the Contigs\n",
    "combined <- combineTCR(contig_list, removeNA = TRUE, samples=c(levels(seurat$Samples)))\n",
    "\n",
    "# #Adding groups as variables\n",
    "combined <- addVariable(combined, variable.name='Groups', variables=c(\n",
    "                                                'SPF-iso',\n",
    "                                                'SPF-iso',\n",
    "                                                'SPF-iso',\n",
    "                                                'SPF-iso',\n",
    "                                                'SPF-aCD3',\n",
    "                                                'SPF-aCD3',\n",
    "                                                'SPF-aCD3',\n",
    "                                                'GF-iso',\n",
    "                                                'GF-iso',\n",
    "                                                'GF-iso',\n",
    "                                                'GF-iso',\n",
    "                                                'GF-aCD3',\n",
    "                                                'GF-aCD3',\n",
    "                                                'GF-aCD3',\n",
    "                                                'GF-aCD3'))          \n",
    "\n",
    "# #Adding Samples as variables\n",
    "combined <- addVariable(combined, variable.name='Samples', variables=c(levels(seurat$Samples)))                                    "
   ]
  },
  {
   "cell_type": "markdown",
   "metadata": {},
   "source": [
    ":::{.content-visible when-meta='verbose'}\n",
    "## Integrating data with seurat object\n",
    ":::"
   ]
  },
  {
   "cell_type": "code",
   "execution_count": null,
   "metadata": {
    "vscode": {
     "languageId": "r"
    }
   },
   "outputs": [],
   "source": [
    "## Integrating analysis with the UMAP\n",
    "### Combining with the seurat object\n",
    "\n",
    "# seurat <- RenameCells(seurat, new.names=seurat$cell_barcodes)\n",
    "# colnames(seurat@meta.data)\n",
    "cell_names <- Cells(seurat)\n",
    "\n",
    "groups_merge <- pull(seurat@meta.data, Samples)\n",
    "# head(cell_names)\n",
    "# head(combined[[1]]$barcode)\n",
    "\n",
    "#Changing barcodes on the seurat object for the merge with VDJ data\n",
    "new_cell_names <- paste(groups_merge, cell_names, sep='_')\n",
    "seurat$cell_barcodes <- cell_names\n",
    "seurat <- RenameCells(seurat, new.names=new_cell_names)\n",
    "\n",
    "#Combining VDJ and Seurat Object\n",
    "#seurat <- combineExpression(combined, seurat, proportion = TRUE, cloneCall='aa', group.by='Samples', cloneSize = c(Rare = 0.5e-04, Small = 0.0005, Medium = 0.005, Large = 0.05, Hyperexpanded = 1))\n",
    "seurat <- combineExpression(combined, seurat, proportion = TRUE, cloneCall='aa', group.by='Samples')\n",
    "table(seurat$cloneSize)\n"
   ]
  },
  {
   "cell_type": "markdown",
   "metadata": {},
   "source": [
    "# TCR repertoire Analysis"
   ]
  },
  {
   "cell_type": "code",
   "execution_count": null,
   "metadata": {
    "vscode": {
     "languageId": "r"
    }
   },
   "outputs": [],
   "source": [
    "#UMAP clonotype frequency\n",
    "slot(seurat, \"meta.data\")$cloneSize <- factor(slot(seurat, \"meta.data\")$cloneSize, \n",
    "                levels = c(\n",
    "                            \"Rare (0 < X <= 1e-04)\",\n",
    "                           \"Small (1e-04 < X <= 0.001)\",\n",
    "                            'Medium (0.001 < X <= 0.01)', \n",
    "                            'Large (0.01 < X <= 0.1)',\n",
    "                            'Hyperexpanded (0.1 < X <= 1)',\n",
    "                                                        NA)) \n",
    "DimPlot_scCustom(seurat, group.by = \"cloneSize\", pt.size = 1, order=T, colors_use = viridis(5)) \n",
    "ggsave(filename = 'UMAP_VDJ_clone_frequencies.pdf', path = figures_path, width = 8, height = 5)\n",
    "DimPlot_scCustom(seurat, group.by = \"cloneSize\", pt.size = 1, order=T, colors_use = viridis(5), split.by = 'Groups')\n",
    "ggsave(filename = 'UMAP_VDJ_clone_frequencies_by_group.pdf', path = figures_path, width = 16, height = 5)\n",
    "    \n",
    "  "
   ]
  },
  {
   "cell_type": "markdown",
   "metadata": {},
   "source": [
    ":::{.content-visible when-meta='verbose'}\n",
    "## Parsing alpha and beta gene usage\n",
    ":::"
   ]
  },
  {
   "cell_type": "code",
   "execution_count": null,
   "metadata": {
    "vscode": {
     "languageId": "r"
    }
   },
   "outputs": [],
   "source": [
    "\n",
    "colnames(seurat@meta.data |> dplyr::select(starts_with('CT')))\n",
    "local_dataframe <- seurat@meta.data |> dplyr::select(starts_with('CT')) \n",
    "local_dataframe <- local_dataframe |>\n",
    "                            separate_wider_delim(CTgene,delim = '_',names = c('CT_alpha', 'CT_beta'), cols_remove = FALSE)  |>\n",
    "                            separate_wider_delim(CT_alpha,delim = '.',names = c('CT_V_alpha', 'CT_J_alpha', NA), cols_remove = FALSE, too_many = 'drop')  |>\n",
    "                            mutate(CT_alpha_final = str_c(CT_V_alpha, '_', CT_J_alpha))\n",
    "seurat$CT_alpha_final <- pull(local_dataframe, CT_alpha_final)\n",
    "colnames(seurat@meta.data |> dplyr::select(starts_with('CT')))\n",
    "\n",
    "for (column in seurat@meta.data |> dplyr::select(starts_with('CT'))) {\n",
    "    print(colnames(column))\n",
    "    print(length(column))\n",
    "}\n"
   ]
  },
  {
   "cell_type": "markdown",
   "metadata": {},
   "source": [
    "## Annotating known invariant TCRs"
   ]
  },
  {
   "cell_type": "markdown",
   "metadata": {},
   "source": [
    "### iNKTs (TRAV11_TRAJ18)"
   ]
  },
  {
   "cell_type": "code",
   "execution_count": null,
   "metadata": {
    "vscode": {
     "languageId": "r"
    }
   },
   "outputs": [],
   "source": [
    "Idents(seurat) <- 'CT_alpha_final'\n",
    "seurat@meta.data <- mutate(seurat@meta.data, highlight=ifelse(CT_alpha_final == \"TRAV11_TRAJ18\", 'iNKT TCR', 'Other'))\n",
    "\n",
    "seurat$highlight <- factor(seurat$highlight, levels=c('Other','iNKT TCR'))\n",
    "\n",
    "DimPlot_scCustom(seurat, group.by = \"highlight\", order = T, pt.size = 0.01, colors_use = hcl.colors(n = 2, palette = 'ag_GrnYl')) + ggtitle('iNKTs (TRAV11_TRAJ18)')\n",
    "ggsave(filename = 'UMAP_VDJ_iNKTs.pdf', width = 6, height = 5, path = figures_path)\n",
    "DimPlot_scCustom(seurat, group.by = \"highlight\", order = T, pt.size = 0.01, colors_use = hcl.colors(n = 2, palette = 'ag_GrnYl'), split.by = 'Groups') + ggtitle('iNKTs (TRAV11_TRAJ18)')\n",
    "ggsave(filename = 'UMAP_VDJ_iNKTs_by_group.pdf', width = 16, height = 5, path = figures_path)"
   ]
  },
  {
   "cell_type": "markdown",
   "metadata": {},
   "source": [
    "### MAITs (TRAV1_TRAJ33)"
   ]
  },
  {
   "cell_type": "code",
   "execution_count": null,
   "metadata": {
    "vscode": {
     "languageId": "r"
    }
   },
   "outputs": [],
   "source": [
    "#MAITs\n",
    "Idents(seurat) <- 'CT_alpha_final'\n",
    "seurat@meta.data <- mutate(seurat@meta.data, highlight_MAIT=ifelse(CT_alpha_final == \"TRAV1_TRAJ33\", 'MAIT TCR', 'Other'))\n",
    "\n",
    "seurat$highlight_MAIT <- factor(seurat$highlight_MAIT, levels=c('Other','MAIT TCR'))\n",
    "DimPlot_scCustom(seurat, group.by = \"highlight_MAIT\", order = T, pt.size = 0.01, colors_use = hcl.colors(n = 2, palette = 'ag_GrnYl')) + ggtitle('MAIT (TRAV1_TRAJ33)')\n",
    "ggsave(filename = 'UMAP_VDJ_MAIT.pdf', width = 6, height = 5, path = figures_path)\n",
    "DimPlot_scCustom(seurat, group.by = \"highlight_MAIT\", order = T, pt.size = 0.01, colors_use = hcl.colors(n = 2, palette = 'ag_GrnYl'), split.by = 'Groups') + ggtitle('MAIT (TRAV1_TRAJ33)')\n",
    "ggsave(filename = 'UMAP_VDJ_MAIT_by_group.pdf', width = 16, height = 5, path = figures_path)\n",
    "\n",
    "  \n",
    "  "
   ]
  },
  {
   "cell_type": "markdown",
   "metadata": {},
   "source": [
    "### QFLs (TRAV9D-3_TRAJ21)"
   ]
  },
  {
   "cell_type": "code",
   "execution_count": null,
   "metadata": {
    "vscode": {
     "languageId": "r"
    }
   },
   "outputs": [],
   "source": [
    "#QFL\n",
    "Idents(seurat) <- 'CT_alpha_final'\n",
    "seurat@meta.data <- mutate(seurat@meta.data, highlight_QFL=ifelse(CT_alpha_final == \"TRAV9D-3_TRAJ21\", 'QFL TCR', 'Other'))\n",
    "\n",
    "seurat$highlight_QFL <- factor(seurat$highlight_QFL, levels=c('Other','QFL TCR'))\n",
    "DimPlot_scCustom(seurat, group.by = \"highlight_QFL\", order = T, pt.size = 0.01, colors_use = hcl.colors(n = 2, palette = 'ag_GrnYl')) + ggtitle('QFL TCR (TRAV9D-3_TRAJ21)')\n",
    "ggsave(filename = 'UMAP_VDJ_QFL.pdf', width = 8, height = 5, path = figures_path)\n",
    "DimPlot_scCustom(seurat, group.by = \"highlight_QFL\", order = T, pt.size = 0.01, colors_use = hcl.colors(n = 2, palette = 'ag_GrnYl'), split.by = 'Groups') + ggtitle('QFL TCR (TRAV9D-3_TRAJ21)')\n",
    "ggsave(filename = 'UMAP_VDJ_QFL_by_group.pdf', width = 16, height = 5, path = figures_path)"
   ]
  },
  {
   "cell_type": "markdown",
   "metadata": {},
   "source": [
    "## Repertoire Diversity\n"
   ]
  },
  {
   "cell_type": "markdown",
   "metadata": {},
   "source": [
    "### D50 diversity measure"
   ]
  },
  {
   "cell_type": "code",
   "execution_count": null,
   "metadata": {
    "vscode": {
     "languageId": "r"
    }
   },
   "outputs": [],
   "source": [
    "#Extracting TCR data for clusters of interest\n",
    "Idents(scRNAseq) <- 'cell_types'\n",
    "combined2 <- scRepertoire:::.expression2List(scRNAseq, split.by ='ident')\n",
    "\n",
    "cell_types <- unique(scRNAseq$cell_types)\n",
    "\n",
    "#Initiating results data frame\n",
    "results <- as.data.frame(matrix(nrow = 0,ncol = length(cell_types)))\n",
    "colnames(results)\n",
    "rnames <- c()\n",
    "\n",
    "#Calculate D50\n",
    "for (HTO in unique(scRNAseq$hash.ID)) {\n",
    "    \n",
    "    result <- c()\n",
    "    names <- c()\n",
    "\n",
    "    for (cell_type in cell_types) {\n",
    "        \n",
    "        #Extracting data for cell type and HTO\n",
    "        cell_type_HTO_data <- combined2[[cell_type]]|>\n",
    "                                    filter(hash.ID == HTO) |>\n",
    "                                    dplyr::select(c('hash.ID', 'CTaa')) |>\n",
    "                                    add_count(CTaa, sort=TRUE)\n",
    "\n",
    "        #Calculating D50\n",
    "        if (nrow(cell_type_HTO_data) < 20) {\n",
    "            D50 <- NA \n",
    "        } else {\n",
    "            L50 <- floor(nrow(cell_type_HTO_data)/2)\n",
    "            number_unique_50 <- cell_type_HTO_data[1:L50,] %>% summarise(n_distinct(CTaa)) %>% as.numeric()\n",
    "            number_unique_total <- cell_type_HTO_data[] %>% summarise(n_distinct(CTaa)) %>% as.numeric()\n",
    "            D50 <- number_unique_50/number_unique_total\n",
    "        }\n",
    "        result <- c(result, D50)\n",
    "    }\n",
    "    results <- rbind(results, result)\n",
    "    rnames <- c(rnames, HTO)\n",
    "    print(HTO)\n",
    "\n",
    "}\n",
    "\n",
    "print(rnames)\n",
    "nrow(results)\n",
    "colnames(results) <- paste0(cell_types, '_D50')\n",
    "colnames(results)\n",
    "\n",
    "results <- results %>% mutate(Mouse=rnames) %>% arrange(Mouse) |> relocate(Mouse)\n",
    "results\n",
    "\n",
    "write.csv(results, file=paste0(path, 'D50_per_cell_type.csv'), row.names=FALSE)\n"
   ]
  },
  {
   "cell_type": "code",
   "execution_count": null,
   "metadata": {
    "vscode": {
     "languageId": "r"
    }
   },
   "outputs": [],
   "source": [
    "#### TO DO: VISUALIZATION"
   ]
  },
  {
   "cell_type": "markdown",
   "metadata": {},
   "source": [
    "### Additional Diversity Measures\n",
    "Need to finish this per cell type"
   ]
  },
  {
   "cell_type": "code",
   "execution_count": null,
   "metadata": {
    "vscode": {
     "languageId": "r"
    }
   },
   "outputs": [],
   "source": [
    "#Extracting TCR data for clusters of interest\n",
    "Idents(scRNAseq) <- 'cell_types'\n",
    "combined2 <- scRepertoire:::.expression2List(scRNAseq, split.by ='ident')[\n",
    "\n",
    "diversity_measure_results <- clonalDiversity(combined2, cloneCall = 'aa', exportTable = T, n.boots = 100)\n",
    "#diversity_measure_results <- diversity_measure_results |>\n",
    "    #separate_wider_delim(Group, '_', names = c('cell_type', 'Sample'))\n",
    "write.csv(diversity_measure_results, file=paste0(path, 'diversity_measure_results.csv'), row.names=T)\n"
   ]
  },
  {
   "cell_type": "code",
   "execution_count": null,
   "metadata": {
    "vscode": {
     "languageId": "r"
    }
   },
   "outputs": [],
   "source": []
  },
  {
   "cell_type": "markdown",
   "metadata": {},
   "source": [
    "## Overlap Analysis"
   ]
  },
  {
   "cell_type": "code",
   "execution_count": null,
   "metadata": {
    "vscode": {
     "languageId": "r"
    }
   },
   "outputs": [],
   "source": [
    "combined2 <- scRepertoire:::.expression2List(scRNAseq, split.by ='Samples')\n",
    "\n",
    "morisita_table <- clonalOverlap(combined2, cloneCall = 'aa', chain = 'both',exportTable = T,method = 'morisita')\n",
    "write.csv(morisita_table, file = 'morisita_table.csv')\n",
    "head(morisita_table)\n",
    "\n",
    "morisita_table <- clonalOverlap(combined2, cloneCall = 'aa', chain = 'both',exportTable = T,method = 'overlap')\n",
    "write.csv(morisita_table, file = 'overlap_coefficient_table.csv')\n",
    "head(morisita_table)\n"
   ]
  },
  {
   "cell_type": "code",
   "execution_count": null,
   "metadata": {
    "vscode": {
     "languageId": "r"
    }
   },
   "outputs": [],
   "source": [
    "### TO DO VISUALIZATION"
   ]
  },
  {
   "cell_type": "markdown",
   "metadata": {},
   "source": [
    "### Circos"
   ]
  },
  {
   "cell_type": "code",
   "execution_count": null,
   "metadata": {
    "vscode": {
     "languageId": "r"
    }
   },
   "outputs": [],
   "source": [
    "\n",
    "mouse_palette <-c(\n",
    "\n",
    "        '1-Reg-Chow-M' = 'skyblue1',\n",
    "        '2-Reg-Chow-M' = 'skyblue2',\n",
    "        '3-Reg-Chow-F' = 'skyblue3',\n",
    "        '4-Reg-Chow-F' = 'skyblue4',\n",
    "\n",
    "        '5-Casein-M' = 'peachpuff',\n",
    "        '6-Casein-M' = 'peachpuff1',\n",
    "        '7-Casein-M' = 'peachpuff2',\n",
    "        '8-Casein-F' = 'peachpuff3',\n",
    "        '9-Casein-F' = 'peachpuff4',\n",
    "\n",
    "        '10-AminoAcid-M' = 'indianred1',\n",
    "        '11-AminoAcid-F' = 'indianred2',\n",
    "        '12-AminoAcid-F' = 'indianred3',\n",
    "        '13-AminoAcid-F' = 'indianred4'\n",
    "\n",
    "        )\n",
    "\n",
    "        "
   ]
  },
  {
   "cell_type": "code",
   "execution_count": null,
   "metadata": {
    "vscode": {
     "languageId": "r"
    }
   },
   "outputs": [],
   "source": [
    "colnames(scRNAseq@meta.data)\n",
    "Idents(scRNAseq) <- 'seurat_clusters'\n",
    "DimPlot(scRNAseq, label = T)"
   ]
  },
  {
   "cell_type": "code",
   "execution_count": null,
   "metadata": {
    "vscode": {
     "languageId": "r"
    }
   },
   "outputs": [],
   "source": [
    "# scRNAseq_small <- subset(scRNAseq, subset =  seurat_clusters == '6', invert = T)\n",
    "scRNAseq_small <- scRNAseq\n",
    "Idents(scRNAseq_small) <- 'Samples'\n",
    "combined2 <- scRepertoire:::.expression2List(scRNAseq_small, split.by ='orig.ident')\n",
    "\n",
    "#head(combined2[[1]])\n",
    "typeof(combined2[[1]]$clonalFrequency)\n",
    "TCR_data <- combined2[[1]] |> \n",
    "    as_tibble() |>\n",
    "    dplyr::select(c('CTaa', 'Samples', 'CTgene', 'clonalFrequency'))  |>\n",
    "    add_count(CTaa, Samples, sort = T,name = 'counts_per_celltype') |>\n",
    "#    add_count(CTaa, tissue, sort = T,name = 'counts_per_tissue') |>\n",
    "    group_by(CTaa, ,Samples) |>\n",
    "    slice_head() |>\n",
    "    ungroup() |>\n",
    "    arrange(desc(counts_per_celltype))  |>\n",
    "    pivot_wider(id_cols= c(CTaa) ,names_from = Samples, values_from = counts_per_celltype,unused_fn = dplyr::first) |>\n",
    "    #pivot_wider(id_cols= c(CTaa) ,names_from = tissue, values_from = counts_per_tissue, unused_fn = dplyr::first) |>\n",
    "    mutate_all(~replace(., is.na(.), 0))  |>\n",
    "    arrange(desc(clonalFrequency)) |>\n",
    "    mutate(clonotype = paste0('clonotype ', as.character(row_number()) ))\n",
    "\n",
    "\n",
    "# Th1_TCR_data <- Th1_TCR_data |> \n",
    "#     rowwise() |>\n",
    "#     mutate(max=max(c_across(contains('rep'))),\n",
    "#             GF_sum=sum(c_across(contains('GF-'))),\n",
    "#             SPF_sum=sum(c_across(contains('SPF-')))) |>\n",
    "#     ungroup() |>\n",
    "#     mutate(spread=total_CTaa_counts-max,\n",
    "#         Group_sharing=1-abs(GF_sum-SPF_sum)/total_CTaa_counts) |>\n",
    "#     arrange( desc(Group_sharing))\n",
    "\n",
    "\n",
    "    #dplyr::count(CTaa, Frequency, cloneType, Samples, Groups, sort = T)\n",
    "    #distinct()\n",
    "\n",
    "    # add_count(CTaa, sort=T)\n",
    "#head( Th1_TCR_data |> filter(CTaa == 'CAANSNNRIFF_CASSLGASAETLYF') )\n",
    "#head(TCR_data |> filter(skin > 0 & LN > 0 & spleen > 0))\n",
    "#head(combined2[[1]] |> filter(CTaa == 'CAVRRGSALGRLHF_CASSLGEDTQYF') |> dplyr::select('CTgene'))\n",
    "\n",
    "write_csv(TCR_data, file='TCR_data_per_mouse.csv')\n",
    "typeof(TCR_data$clonalFrequency)\n",
    "\n",
    "TCR_data_plot <- TCR_data |>\n",
    "                    \n",
    "                    pivot_longer(!c(CTaa, CTgene, clonalFrequency, clonotype), names_to = 'mouse',values_to = 'mouse_counts')\n",
    "\n",
    "head(TCR_data_plot)\n",
    "typeof(TCR_data_plot$clonalFrequency)\n"
   ]
  },
  {
   "cell_type": "markdown",
   "metadata": {},
   "source": [
    "Circos"
   ]
  },
  {
   "cell_type": "code",
   "execution_count": null,
   "metadata": {
    "vscode": {
     "languageId": "r"
    }
   },
   "outputs": [],
   "source": [
    "unique(TCR_data_plot$mouse)\n",
    "TCR_data_plot_old <- TCR_data_plot\n",
    "unique(TCR_data_plot_old$mouse)\n",
    "TCR_data_plot <- TCR_data_plot |>\n",
    "    #filter(skin > 0) |>\n",
    "    group_by(mouse) |>\n",
    "    mutate(TCR_sequence_count_by_cell_type = sum(mouse_counts)) |>\n",
    "    arrange(desc(mouse_counts)) |>\n",
    "    mutate(TCR_sequence_position_by_cell_type = cumsum(mouse_counts))  |>\n",
    "    mutate(TCR_sequence_start_position_by_cell_type =  c(0, TCR_sequence_position_by_cell_type[-length(TCR_sequence_position_by_cell_type)]))   |>\n",
    "    ungroup() |>\n",
    "    rowwise() |> \n",
    "    mutate(coordinates = list(c(TCR_sequence_start_position_by_cell_type, TCR_sequence_position_by_cell_type))) |>\n",
    "    ungroup() |>\n",
    "    mutate(mouse = factor(mouse, levels = c(      \n",
    "                                                '1-Reg-Chow-M', \n",
    "                                                '2-Reg-Chow-M',\n",
    "                                                '3-Reg-Chow-F',\n",
    "                                                '4-Reg-Chow-F',\n",
    "                                                '5-Casein-M',\n",
    "                                                '6-Casein-M',\n",
    "                                                '7-Casein-M',\n",
    "                                                '8-Casein-F',\n",
    "                                                '9-Casein-F',\n",
    "                                                '10-AminoAcid-M',\n",
    "                                                '11-AminoAcid-F',\n",
    "                                                '12-AminoAcid-F',\n",
    "                                                '13-AminoAcid-F')))  #|> \n",
    "    #filter(!(mouse %in% c('Naive', 'activated T cells', 'TCM', 'Th1')))\n",
    "    \n",
    "\n",
    "\n",
    "\n",
    "\n",
    "#head(TCR_data_plot |> arrange(mouse_counts) |> filter(mouse == 'Tregs'), 30)\n",
    "#tail(TCR_data_plot |> filter(mouse == 'Naive'))\n",
    "levels(TCR_data_plot$mouse)"
   ]
  },
  {
   "cell_type": "code",
   "execution_count": null,
   "metadata": {
    "vscode": {
     "languageId": "r"
    }
   },
   "outputs": [],
   "source": [
    "head(TCR_data_plot)"
   ]
  },
  {
   "cell_type": "code",
   "execution_count": null,
   "metadata": {
    "vscode": {
     "languageId": "r"
    }
   },
   "outputs": [],
   "source": [
    "TCR_data_plot_distinct <- TCR_data_plot |> dplyr::select(c('mouse', 'TCR_sequence_count_by_cell_type')) |> distinct() |> arrange(mouse) |> mutate(origin = TCR_sequence_count_by_cell_type*0) |> column_to_rownames('mouse') |> relocate(origin)  |> as.matrix()\n",
    "head(TCR_data_plot_distinct, 12)"
   ]
  },
  {
   "cell_type": "code",
   "execution_count": null,
   "metadata": {
    "vscode": {
     "languageId": "r"
    }
   },
   "outputs": [],
   "source": [
    "unique(scRNAseq$Samples)"
   ]
  },
  {
   "cell_type": "code",
   "execution_count": null,
   "metadata": {
    "vscode": {
     "languageId": "r"
    }
   },
   "outputs": [],
   "source": [
    "\n",
    "grid_cols <- mouse_palette\n",
    "grid_cols['13-AminoAcid-F']\n"
   ]
  },
  {
   "cell_type": "code",
   "execution_count": null,
   "metadata": {
    "vscode": {
     "languageId": "r"
    }
   },
   "outputs": [],
   "source": [
    "###########Circos####################\n",
    "#path <- './'\n",
    "cluster <- 'all'\n",
    "pdf(file = paste0(path, 'Circos_TCR_per_mouse_TH1_only', '.pdf')) #Initialize plot\n",
    "\n",
    "# Setting parameters\n",
    "circos.par(gap.degree = 2, track.height = 0.1, cell.padding = c(0, 0, 0, 0), circle.margin = 0.8)\n",
    "\n",
    "# Initializing plot sectors\n",
    "circos.initialize(xlim = TCR_data_plot_distinct)\n",
    "\n",
    "#Assigning colors to each cluster\n",
    "#grid_cols <- scales::hue_pal()(length(levels(TCR_data_plot$mouse))) #|> rev()\n",
    "    #names(grid_cols) <- levels(TCR_data_plot$mouse)\n",
    "\n",
    "grid_cols <- mouse_palette\n",
    "names(grid_cols) <- levels(scRNAseq$Samples)\n",
    "\n",
    "#Drawing axes \n",
    "circos.track(ylim = c(0,1),\n",
    " panel.fun = function(x, y) {\n",
    "        print(CELL_META$xrange[[1]])\n",
    "        \n",
    "        if (CELL_META$cell.width < 45) {\n",
    "            circos.text(CELL_META$xcenter, \n",
    "            CELL_META$cell.ylim[2] + mm_y(10), \n",
    "            adj = c(0 , 1),\n",
    "            CELL_META$sector.index,\n",
    "            facing = 'clockwise', \n",
    "            niceFacing = T, \n",
    "            cex  = 0.7)\n",
    "\n",
    "\n",
    "\n",
    "        } else {\n",
    "            circos.text(CELL_META$xcenter, \n",
    "            CELL_META$cell.ylim[2] + mm_y(11),\n",
    "            #adj = c(0, 1), \n",
    "            CELL_META$sector.index,\n",
    "            facing = 'bending.inside', \n",
    "            niceFacing = T,\n",
    "            cex = 0.8\n",
    "            )\n",
    "\n",
    "        }\n",
    "\n",
    "        if (CELL_META$xrange[[1]] > 500) {\n",
    "            circos.axis(labels.cex = 0.5, \n",
    "            minor.ticks =  0,\n",
    "            major.tick = 1,\n",
    "            labels.facing = 'clockwise',\n",
    "            major.at = seq(500, CELL_META$xrange[[1]], by = 500))\n",
    "        }\n",
    "\n",
    "        highlight.sector(CELL_META$sector.index, col = grid_cols[CELL_META$sector.index])\n",
    "    })\n",
    "\n",
    "done <- c() #To avoid plotting the same link twice\n",
    "\n",
    "# Plot links between clusters\n",
    "for (origin_cell_type in levels(TCR_data_plot$mouse)) {\n",
    "    for (target_cell_type in levels(TCR_data_plot$mouse)) {\n",
    "        if (origin_cell_type == target_cell_type | target_cell_type %in% done) {\n",
    "            next\n",
    "        }    else {\n",
    "                table_one <- TCR_data_plot |>\n",
    "                filter(mouse == origin_cell_type & mouse_counts != 0)  |>\n",
    "                dplyr::select(c('clonotype', 'mouse', 'coordinates')) \n",
    "        \n",
    "                table_two <- TCR_data_plot |>\n",
    "                filter(mouse == target_cell_type & mouse_counts != 0) |>\n",
    "                dplyr::select(c('clonotype', 'mouse', 'coordinates'))\n",
    "\n",
    "                link_table  <-  inner_join(table_one, table_two, by = 'clonotype') |> column_to_rownames(var = 'clonotype')\n",
    "\n",
    "                if (str_detect(origin_cell_type, 'Reg') & str_detect(target_cell_type, 'Reg')) {\n",
    "                    color = alpha(grid_cols[['3-Reg-Chow-F']], 1)}\n",
    "                     \n",
    "                else if (str_detect(origin_cell_type, 'Casein') & str_detect(target_cell_type, 'Casein')) {\n",
    "                    #color = alpha('magenta', 0.6)}\n",
    "                    color = alpha(grid_cols[['8-Casein-F']], 1)}\n",
    "                    \n",
    "                else if (str_detect(origin_cell_type, 'AminoAcid') & str_detect(target_cell_type, 'AminoAcid')) {\n",
    "                    color = alpha(grid_cols[['12-AminoAcid-F']], 1)}\n",
    "                \n",
    "                else {\n",
    "                    color = alpha('gray', 0.15)\n",
    "                }\n",
    "\n",
    "                # color = alpha(grid_cols[origin_cell_type], 0.5)\n",
    "\n",
    "                for (clonotype1 in rownames(link_table)) {\n",
    "                    \n",
    "                    index1 <- link_table[[clonotype1, 'mouse.x']]\n",
    "                    index2 <- link_table[[clonotype1, 'mouse.y']]\n",
    "                    coordinates1 <- as.vector(link_table[[clonotype1, 'coordinates.x']])\n",
    "                    coordinates2 <- as.vector(link_table[[clonotype1, 'coordinates.y']])\n",
    "\n",
    "                    # Plot link\n",
    "                    circos.link(link_table[[clonotype1, 'mouse.x']], \n",
    "                                as.vector(link_table[[clonotype1, 'coordinates.x']]),\n",
    "                                link_table[[clonotype1, 'mouse.y']],\n",
    "                                as.vector(link_table[[clonotype1, 'coordinates.y']]),\n",
    "                                col = color)\n",
    "                }\n",
    "\n",
    "        }\n",
    "    }\n",
    "    \n",
    "     done <- c(done, origin_cell_type)\n",
    "\n",
    "}\n",
    "    \n",
    "title(paste0('TCR Overlap ', cluster, ' per mouse'))\n",
    "\n",
    "dev.off()\n",
    "\n",
    "circos.clear()\n",
    "\n"
   ]
  },
  {
   "cell_type": "markdown",
   "metadata": {},
   "source": [
    "## "
   ]
  },
  {
   "cell_type": "code",
   "execution_count": null,
   "metadata": {
    "vscode": {
     "languageId": "r"
    }
   },
   "outputs": [],
   "source": []
  }
 ],
 "metadata": {
  "kernelspec": {
   "display_name": "R",
   "language": "R",
   "name": "r"
  },
  "language_info": {
   "codemirror_mode": "r",
   "file_extension": ".r",
   "mimetype": "text/x-r-source",
   "name": "R",
   "pygments_lexer": "r",
   "version": "4.5.1"
  },
  "orig_nbformat": 4
 },
 "nbformat": 4,
 "nbformat_minor": 2
}
